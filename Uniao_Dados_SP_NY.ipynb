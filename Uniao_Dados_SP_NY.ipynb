{
  "nbformat": 4,
  "nbformat_minor": 0,
  "metadata": {
    "colab": {
      "provenance": [],
      "collapsed_sections": [
        "kXjTMruXpXMv",
        "Izpi99cfpJP3",
        "IpKVLIsNp0tG",
        "Q-Gu_CtVk1jv",
        "GdobXKWutspH",
        "p4o8k7U8R7Z5",
        "sRuDmnq4eT3-",
        "Z87636oMaDbs"
      ],
      "include_colab_link": true
    },
    "kernelspec": {
      "name": "python3",
      "display_name": "Python 3"
    },
    "language_info": {
      "name": "python"
    }
  },
  "cells": [
    {
      "cell_type": "markdown",
      "metadata": {
        "id": "view-in-github",
        "colab_type": "text"
      },
      "source": [
        "<a href=\"https://colab.research.google.com/github/giobritos/soul_code_projeto_final/blob/main/Uniao_Dados_SP_NY.ipynb\" target=\"_parent\"><img src=\"https://colab.research.google.com/assets/colab-badge.svg\" alt=\"Open In Colab\"/></a>"
      ]
    },
    {
      "cell_type": "markdown",
      "source": [
        "# 👮🏽‍♂️👮🏽‍♀️ **Tratamento dos Data Frames de São Paulo e NY**\n",
        "\n",
        "Link para a documentação completa do projeto: [clique aqui](https://www.notion.so/Mindful-Data-Consultoria-d495964059c34acb9c8fe3d21dbb5cf6)\n",
        "\n",
        "\n"
      ],
      "metadata": {
        "id": "YJi1DahFj2JA"
      }
    },
    {
      "cell_type": "markdown",
      "source": [
        "## **📚 1 - Instalação e importação das bibliotecas**"
      ],
      "metadata": {
        "id": "kXjTMruXpXMv"
      }
    },
    {
      "cell_type": "code",
      "source": [
        "# Instaladores \n",
        "\n",
        "# Google Cloud Storage\n",
        "%%capture\n",
        "%pip install gcsfs\n",
        "\n",
        "# Conector MySQL\n",
        "%pip install mysql-connector-python\n",
        "%pip install PyMySQL"
      ],
      "metadata": {
        "id": "WsXlX9PPzTWr"
      },
      "execution_count": null,
      "outputs": []
    },
    {
      "cell_type": "code",
      "source": [
        "# Conexão do Storage\n",
        "from google.cloud import storage\n",
        "from google.colab import drive\n",
        "\n",
        "# Importa sistema operacional\n",
        "import os\n",
        "\n",
        "# Conector do MySQL\n",
        "from mysql.connector import Error\n",
        "from sqlalchemy import create_engine\n",
        "\n",
        "# Pandas\n",
        "import pandas as pd\n",
        "\n",
        "# Numpy\n",
        "import numpy as np\n",
        "\n",
        "# Matplotlib\n",
        "import matplotlib.pyplot as plt\n",
        "\n",
        "# MongoClient\n",
        "from pymongo import MongoClient\n",
        "\n",
        "# setando configurações de display do pandas\n",
        "pd.set_option('display.max_columns',100)"
      ],
      "metadata": {
        "id": "FKSgoDDZ3KiY"
      },
      "execution_count": null,
      "outputs": []
    },
    {
      "cell_type": "markdown",
      "source": [
        "## 🔗 **2 - Conexão com o DataLake**"
      ],
      "metadata": {
        "id": "Izpi99cfpJP3"
      }
    },
    {
      "cell_type": "code",
      "source": [
        "# importar drive - Conectar a GCP ao collab\n",
        "from google.colab import drive\n",
        "drive.mount('/content/drive')"
      ],
      "metadata": {
        "colab": {
          "base_uri": "https://localhost:8080/"
        },
        "id": "pSGrYZudjV5j",
        "outputId": "350b0237-ec40-4e9f-e89c-5f94602c0df8"
      },
      "execution_count": null,
      "outputs": [
        {
          "output_type": "stream",
          "name": "stdout",
          "text": [
            "Mounted at /content/drive\n"
          ]
        }
      ]
    },
    {
      "cell_type": "code",
      "source": [
        "# Configuração da chave de segurança\n",
        "serviceAccount = '/content/projeto-final-373521-f220a17ad573.json'\n",
        "os.environ['GOOGLE_APPLICATION_CREDENTIALS'] = serviceAccount\n",
        "\n",
        "# Fazer acesso ao bucket do Cloud Storage\n",
        "client = storage.Client()\n",
        "\n",
        "# Criar uma variável para receber o nome do bucket\n",
        "bucket = client.get_bucket('projeto-final-agsw')"
      ],
      "metadata": {
        "id": "dsMlmFoo-Aa2"
      },
      "execution_count": null,
      "outputs": []
    },
    {
      "cell_type": "markdown",
      "source": [
        "## ⚒️ **3 - Extração das bases de dados**"
      ],
      "metadata": {
        "id": "IpKVLIsNp0tG"
      }
    },
    {
      "cell_type": "code",
      "source": [
        "# Criando variavel com endereço dos arquivos\n",
        "path1 = 'gs://projeto-final-agsw/tratados/ny_tratado.csv'\n",
        "path2 = 'gs://projeto-final-agsw/tratados/sp_tratado.csv'"
      ],
      "metadata": {
        "id": "l6ZB2Mlxp4Vp"
      },
      "execution_count": null,
      "outputs": []
    },
    {
      "cell_type": "code",
      "source": [
        "# Gerando Data Frames\n",
        "dfny = pd.read_csv(path1)\n",
        "dfsp = pd.read_csv(path2)"
      ],
      "metadata": {
        "id": "2My6PkinqyxV"
      },
      "execution_count": null,
      "outputs": []
    },
    {
      "cell_type": "code",
      "source": [
        "# Fazendo Back Up dos dados\n",
        "dfny = dfny.copy()\n",
        "dfsp = dfsp.copy()"
      ],
      "metadata": {
        "id": "GLTW1XyPrmkg"
      },
      "execution_count": null,
      "outputs": []
    },
    {
      "cell_type": "markdown",
      "source": [
        "## 🔨**4 - Padronização dos DF's**"
      ],
      "metadata": {
        "id": "Q-Gu_CtVk1jv"
      }
    },
    {
      "cell_type": "markdown",
      "source": [
        "### **▶️ Renomeando um coluna NY**"
      ],
      "metadata": {
        "id": "UGwwS8Vo1ZSn"
      }
    },
    {
      "cell_type": "code",
      "source": [
        "# Visualizando dados\n",
        "dfny.head(1)"
      ],
      "metadata": {
        "colab": {
          "base_uri": "https://localhost:8080/",
          "height": 162
        },
        "id": "z6jKAtp3VIZR",
        "outputId": "6b4fda38-8a95-446c-c195-4d6e2738ce0e"
      },
      "execution_count": null,
      "outputs": [
        {
          "output_type": "execute_result",
          "data": {
            "text/plain": [
              "      cidade        tipo_crime distrito      data_ocorrencia  \\\n",
              "0  Nova York  Homicídio Doloso    Bronx  2018-07-09 14:25:00   \n",
              "\n",
              "  periodo_ocorrencia faixa_etaria_suspeito cor_pele_suspeito sexo_suspeito  \\\n",
              "0              Tarde                 25-44            Branca     Masculino   \n",
              "\n",
              "  faixa_etaria_vitima cor_pele_vitima sexo_vitima          latitude_longitude  \\\n",
              "0               25-44           Preta   Masculino  40.804012949,-73.878331833   \n",
              "\n",
              "  desc_foro  \n",
              "0     Outro  "
            ],
            "text/html": [
              "\n",
              "  <div id=\"df-94c5faf5-f168-4c8c-a15d-61152b36db53\">\n",
              "    <div class=\"colab-df-container\">\n",
              "      <div>\n",
              "<style scoped>\n",
              "    .dataframe tbody tr th:only-of-type {\n",
              "        vertical-align: middle;\n",
              "    }\n",
              "\n",
              "    .dataframe tbody tr th {\n",
              "        vertical-align: top;\n",
              "    }\n",
              "\n",
              "    .dataframe thead th {\n",
              "        text-align: right;\n",
              "    }\n",
              "</style>\n",
              "<table border=\"1\" class=\"dataframe\">\n",
              "  <thead>\n",
              "    <tr style=\"text-align: right;\">\n",
              "      <th></th>\n",
              "      <th>cidade</th>\n",
              "      <th>tipo_crime</th>\n",
              "      <th>distrito</th>\n",
              "      <th>data_ocorrencia</th>\n",
              "      <th>periodo_ocorrencia</th>\n",
              "      <th>faixa_etaria_suspeito</th>\n",
              "      <th>cor_pele_suspeito</th>\n",
              "      <th>sexo_suspeito</th>\n",
              "      <th>faixa_etaria_vitima</th>\n",
              "      <th>cor_pele_vitima</th>\n",
              "      <th>sexo_vitima</th>\n",
              "      <th>latitude_longitude</th>\n",
              "      <th>desc_foro</th>\n",
              "    </tr>\n",
              "  </thead>\n",
              "  <tbody>\n",
              "    <tr>\n",
              "      <th>0</th>\n",
              "      <td>Nova York</td>\n",
              "      <td>Homicídio Doloso</td>\n",
              "      <td>Bronx</td>\n",
              "      <td>2018-07-09 14:25:00</td>\n",
              "      <td>Tarde</td>\n",
              "      <td>25-44</td>\n",
              "      <td>Branca</td>\n",
              "      <td>Masculino</td>\n",
              "      <td>25-44</td>\n",
              "      <td>Preta</td>\n",
              "      <td>Masculino</td>\n",
              "      <td>40.804012949,-73.878331833</td>\n",
              "      <td>Outro</td>\n",
              "    </tr>\n",
              "  </tbody>\n",
              "</table>\n",
              "</div>\n",
              "      <button class=\"colab-df-convert\" onclick=\"convertToInteractive('df-94c5faf5-f168-4c8c-a15d-61152b36db53')\"\n",
              "              title=\"Convert this dataframe to an interactive table.\"\n",
              "              style=\"display:none;\">\n",
              "        \n",
              "  <svg xmlns=\"http://www.w3.org/2000/svg\" height=\"24px\"viewBox=\"0 0 24 24\"\n",
              "       width=\"24px\">\n",
              "    <path d=\"M0 0h24v24H0V0z\" fill=\"none\"/>\n",
              "    <path d=\"M18.56 5.44l.94 2.06.94-2.06 2.06-.94-2.06-.94-.94-2.06-.94 2.06-2.06.94zm-11 1L8.5 8.5l.94-2.06 2.06-.94-2.06-.94L8.5 2.5l-.94 2.06-2.06.94zm10 10l.94 2.06.94-2.06 2.06-.94-2.06-.94-.94-2.06-.94 2.06-2.06.94z\"/><path d=\"M17.41 7.96l-1.37-1.37c-.4-.4-.92-.59-1.43-.59-.52 0-1.04.2-1.43.59L10.3 9.45l-7.72 7.72c-.78.78-.78 2.05 0 2.83L4 21.41c.39.39.9.59 1.41.59.51 0 1.02-.2 1.41-.59l7.78-7.78 2.81-2.81c.8-.78.8-2.07 0-2.86zM5.41 20L4 18.59l7.72-7.72 1.47 1.35L5.41 20z\"/>\n",
              "  </svg>\n",
              "      </button>\n",
              "      \n",
              "  <style>\n",
              "    .colab-df-container {\n",
              "      display:flex;\n",
              "      flex-wrap:wrap;\n",
              "      gap: 12px;\n",
              "    }\n",
              "\n",
              "    .colab-df-convert {\n",
              "      background-color: #E8F0FE;\n",
              "      border: none;\n",
              "      border-radius: 50%;\n",
              "      cursor: pointer;\n",
              "      display: none;\n",
              "      fill: #1967D2;\n",
              "      height: 32px;\n",
              "      padding: 0 0 0 0;\n",
              "      width: 32px;\n",
              "    }\n",
              "\n",
              "    .colab-df-convert:hover {\n",
              "      background-color: #E2EBFA;\n",
              "      box-shadow: 0px 1px 2px rgba(60, 64, 67, 0.3), 0px 1px 3px 1px rgba(60, 64, 67, 0.15);\n",
              "      fill: #174EA6;\n",
              "    }\n",
              "\n",
              "    [theme=dark] .colab-df-convert {\n",
              "      background-color: #3B4455;\n",
              "      fill: #D2E3FC;\n",
              "    }\n",
              "\n",
              "    [theme=dark] .colab-df-convert:hover {\n",
              "      background-color: #434B5C;\n",
              "      box-shadow: 0px 1px 3px 1px rgba(0, 0, 0, 0.15);\n",
              "      filter: drop-shadow(0px 1px 2px rgba(0, 0, 0, 0.3));\n",
              "      fill: #FFFFFF;\n",
              "    }\n",
              "  </style>\n",
              "\n",
              "      <script>\n",
              "        const buttonEl =\n",
              "          document.querySelector('#df-94c5faf5-f168-4c8c-a15d-61152b36db53 button.colab-df-convert');\n",
              "        buttonEl.style.display =\n",
              "          google.colab.kernel.accessAllowed ? 'block' : 'none';\n",
              "\n",
              "        async function convertToInteractive(key) {\n",
              "          const element = document.querySelector('#df-94c5faf5-f168-4c8c-a15d-61152b36db53');\n",
              "          const dataTable =\n",
              "            await google.colab.kernel.invokeFunction('convertToInteractive',\n",
              "                                                     [key], {});\n",
              "          if (!dataTable) return;\n",
              "\n",
              "          const docLinkHtml = 'Like what you see? Visit the ' +\n",
              "            '<a target=\"_blank\" href=https://colab.research.google.com/notebooks/data_table.ipynb>data table notebook</a>'\n",
              "            + ' to learn more about interactive tables.';\n",
              "          element.innerHTML = '';\n",
              "          dataTable['output_type'] = 'display_data';\n",
              "          await google.colab.output.renderOutput(dataTable, element);\n",
              "          const docLink = document.createElement('div');\n",
              "          docLink.innerHTML = docLinkHtml;\n",
              "          element.appendChild(docLink);\n",
              "        }\n",
              "      </script>\n",
              "    </div>\n",
              "  </div>\n",
              "  "
            ]
          },
          "metadata": {},
          "execution_count": 10
        }
      ]
    },
    {
      "cell_type": "code",
      "source": [
        "# Verificando nome das colunas\n",
        "dfny.columns"
      ],
      "metadata": {
        "colab": {
          "base_uri": "https://localhost:8080/"
        },
        "id": "9AunQDk4yb-D",
        "outputId": "a9e4ed8e-f54b-4057-a68c-c2d2af7ce2aa"
      },
      "execution_count": null,
      "outputs": [
        {
          "output_type": "execute_result",
          "data": {
            "text/plain": [
              "Index(['cidade', 'tipo_crime', 'distrito', 'data_ocorrencia',\n",
              "       'periodo_ocorrencia', 'faixa_etaria_suspeito', 'cor_pele_suspeito',\n",
              "       'sexo_suspeito', 'faixa_etaria_vitima', 'cor_pele_vitima',\n",
              "       'sexo_vitima', 'latitude_longitude', 'desc_foro'],\n",
              "      dtype='object')"
            ]
          },
          "metadata": {},
          "execution_count": 11
        }
      ]
    },
    {
      "cell_type": "code",
      "source": [
        "#Renomear as colunas NY\n",
        "dfny.rename(columns={'distrito': 'distrito_zona'}, inplace = True)"
      ],
      "metadata": {
        "id": "txhbVisb1WP9"
      },
      "execution_count": null,
      "outputs": []
    },
    {
      "cell_type": "code",
      "source": [
        "dfny.columns"
      ],
      "metadata": {
        "colab": {
          "base_uri": "https://localhost:8080/"
        },
        "id": "SxtaZl8h25cp",
        "outputId": "1ddefafb-293a-424c-f9f0-075ba5b87d2b"
      },
      "execution_count": null,
      "outputs": [
        {
          "output_type": "execute_result",
          "data": {
            "text/plain": [
              "Index(['cidade', 'tipo_crime', 'distrito_zona', 'data_ocorrencia',\n",
              "       'periodo_ocorrencia', 'faixa_etaria_suspeito', 'cor_pele_suspeito',\n",
              "       'sexo_suspeito', 'faixa_etaria_vitima', 'cor_pele_vitima',\n",
              "       'sexo_vitima', 'latitude_longitude', 'desc_foro'],\n",
              "      dtype='object')"
            ]
          },
          "metadata": {},
          "execution_count": 13
        }
      ]
    },
    {
      "cell_type": "markdown",
      "source": [
        "\n",
        "### **▶️ Renomeando colunas SP**"
      ],
      "metadata": {
        "id": "pn0ymvuO29W7"
      }
    },
    {
      "cell_type": "code",
      "source": [
        "# Visualizando dados\n",
        "dfsp.head(1)"
      ],
      "metadata": {
        "id": "1D3wv3IaJ38v",
        "colab": {
          "base_uri": "https://localhost:8080/",
          "height": 197
        },
        "outputId": "1c38e25e-d0d3-421d-f709-5eb14aabca74"
      },
      "execution_count": null,
      "outputs": [
        {
          "output_type": "execute_result",
          "data": {
            "text/plain": [
              "         tipo_crime  n_vitimas        datahora_fato periodo_ocorrencia  \\\n",
              "0  HOMICÍDIO DOLOSO        1.0  2018-01-06 20:06:00              Noite   \n",
              "\n",
              "  tipo_pessoa sexo_pessoa dt_nasc_pessoa  idade_pessoa faixa_etaria_pessoa  \\\n",
              "0      Vítima   Masculino            NaN           NaN        Desconhecido   \n",
              "\n",
              "        cor_pele profissao     cidade     dp_circunscricao tipo_local_fato  \\\n",
              "0  Não informada       NaN  São Paulo  002 DP - Bom Retiro     Via Pública   \n",
              "\n",
              "                          logradouro n_logradouro  \\\n",
              "0  AVENIDA PRESIDENTE CASTELO BRANCO          NaN   \n",
              "\n",
              "            latitude_longitude corporacao_policial situacao_policial  \n",
              "0  -23.523712052,-46.606388286                 NaN               NaN  "
            ],
            "text/html": [
              "\n",
              "  <div id=\"df-2b3c69c9-c310-41fc-91bd-1a534b6d04b0\">\n",
              "    <div class=\"colab-df-container\">\n",
              "      <div>\n",
              "<style scoped>\n",
              "    .dataframe tbody tr th:only-of-type {\n",
              "        vertical-align: middle;\n",
              "    }\n",
              "\n",
              "    .dataframe tbody tr th {\n",
              "        vertical-align: top;\n",
              "    }\n",
              "\n",
              "    .dataframe thead th {\n",
              "        text-align: right;\n",
              "    }\n",
              "</style>\n",
              "<table border=\"1\" class=\"dataframe\">\n",
              "  <thead>\n",
              "    <tr style=\"text-align: right;\">\n",
              "      <th></th>\n",
              "      <th>tipo_crime</th>\n",
              "      <th>n_vitimas</th>\n",
              "      <th>datahora_fato</th>\n",
              "      <th>periodo_ocorrencia</th>\n",
              "      <th>tipo_pessoa</th>\n",
              "      <th>sexo_pessoa</th>\n",
              "      <th>dt_nasc_pessoa</th>\n",
              "      <th>idade_pessoa</th>\n",
              "      <th>faixa_etaria_pessoa</th>\n",
              "      <th>cor_pele</th>\n",
              "      <th>profissao</th>\n",
              "      <th>cidade</th>\n",
              "      <th>dp_circunscricao</th>\n",
              "      <th>tipo_local_fato</th>\n",
              "      <th>logradouro</th>\n",
              "      <th>n_logradouro</th>\n",
              "      <th>latitude_longitude</th>\n",
              "      <th>corporacao_policial</th>\n",
              "      <th>situacao_policial</th>\n",
              "    </tr>\n",
              "  </thead>\n",
              "  <tbody>\n",
              "    <tr>\n",
              "      <th>0</th>\n",
              "      <td>HOMICÍDIO DOLOSO</td>\n",
              "      <td>1.0</td>\n",
              "      <td>2018-01-06 20:06:00</td>\n",
              "      <td>Noite</td>\n",
              "      <td>Vítima</td>\n",
              "      <td>Masculino</td>\n",
              "      <td>NaN</td>\n",
              "      <td>NaN</td>\n",
              "      <td>Desconhecido</td>\n",
              "      <td>Não informada</td>\n",
              "      <td>NaN</td>\n",
              "      <td>São Paulo</td>\n",
              "      <td>002 DP - Bom Retiro</td>\n",
              "      <td>Via Pública</td>\n",
              "      <td>AVENIDA PRESIDENTE CASTELO BRANCO</td>\n",
              "      <td>NaN</td>\n",
              "      <td>-23.523712052,-46.606388286</td>\n",
              "      <td>NaN</td>\n",
              "      <td>NaN</td>\n",
              "    </tr>\n",
              "  </tbody>\n",
              "</table>\n",
              "</div>\n",
              "      <button class=\"colab-df-convert\" onclick=\"convertToInteractive('df-2b3c69c9-c310-41fc-91bd-1a534b6d04b0')\"\n",
              "              title=\"Convert this dataframe to an interactive table.\"\n",
              "              style=\"display:none;\">\n",
              "        \n",
              "  <svg xmlns=\"http://www.w3.org/2000/svg\" height=\"24px\"viewBox=\"0 0 24 24\"\n",
              "       width=\"24px\">\n",
              "    <path d=\"M0 0h24v24H0V0z\" fill=\"none\"/>\n",
              "    <path d=\"M18.56 5.44l.94 2.06.94-2.06 2.06-.94-2.06-.94-.94-2.06-.94 2.06-2.06.94zm-11 1L8.5 8.5l.94-2.06 2.06-.94-2.06-.94L8.5 2.5l-.94 2.06-2.06.94zm10 10l.94 2.06.94-2.06 2.06-.94-2.06-.94-.94-2.06-.94 2.06-2.06.94z\"/><path d=\"M17.41 7.96l-1.37-1.37c-.4-.4-.92-.59-1.43-.59-.52 0-1.04.2-1.43.59L10.3 9.45l-7.72 7.72c-.78.78-.78 2.05 0 2.83L4 21.41c.39.39.9.59 1.41.59.51 0 1.02-.2 1.41-.59l7.78-7.78 2.81-2.81c.8-.78.8-2.07 0-2.86zM5.41 20L4 18.59l7.72-7.72 1.47 1.35L5.41 20z\"/>\n",
              "  </svg>\n",
              "      </button>\n",
              "      \n",
              "  <style>\n",
              "    .colab-df-container {\n",
              "      display:flex;\n",
              "      flex-wrap:wrap;\n",
              "      gap: 12px;\n",
              "    }\n",
              "\n",
              "    .colab-df-convert {\n",
              "      background-color: #E8F0FE;\n",
              "      border: none;\n",
              "      border-radius: 50%;\n",
              "      cursor: pointer;\n",
              "      display: none;\n",
              "      fill: #1967D2;\n",
              "      height: 32px;\n",
              "      padding: 0 0 0 0;\n",
              "      width: 32px;\n",
              "    }\n",
              "\n",
              "    .colab-df-convert:hover {\n",
              "      background-color: #E2EBFA;\n",
              "      box-shadow: 0px 1px 2px rgba(60, 64, 67, 0.3), 0px 1px 3px 1px rgba(60, 64, 67, 0.15);\n",
              "      fill: #174EA6;\n",
              "    }\n",
              "\n",
              "    [theme=dark] .colab-df-convert {\n",
              "      background-color: #3B4455;\n",
              "      fill: #D2E3FC;\n",
              "    }\n",
              "\n",
              "    [theme=dark] .colab-df-convert:hover {\n",
              "      background-color: #434B5C;\n",
              "      box-shadow: 0px 1px 3px 1px rgba(0, 0, 0, 0.15);\n",
              "      filter: drop-shadow(0px 1px 2px rgba(0, 0, 0, 0.3));\n",
              "      fill: #FFFFFF;\n",
              "    }\n",
              "  </style>\n",
              "\n",
              "      <script>\n",
              "        const buttonEl =\n",
              "          document.querySelector('#df-2b3c69c9-c310-41fc-91bd-1a534b6d04b0 button.colab-df-convert');\n",
              "        buttonEl.style.display =\n",
              "          google.colab.kernel.accessAllowed ? 'block' : 'none';\n",
              "\n",
              "        async function convertToInteractive(key) {\n",
              "          const element = document.querySelector('#df-2b3c69c9-c310-41fc-91bd-1a534b6d04b0');\n",
              "          const dataTable =\n",
              "            await google.colab.kernel.invokeFunction('convertToInteractive',\n",
              "                                                     [key], {});\n",
              "          if (!dataTable) return;\n",
              "\n",
              "          const docLinkHtml = 'Like what you see? Visit the ' +\n",
              "            '<a target=\"_blank\" href=https://colab.research.google.com/notebooks/data_table.ipynb>data table notebook</a>'\n",
              "            + ' to learn more about interactive tables.';\n",
              "          element.innerHTML = '';\n",
              "          dataTable['output_type'] = 'display_data';\n",
              "          await google.colab.output.renderOutput(dataTable, element);\n",
              "          const docLink = document.createElement('div');\n",
              "          docLink.innerHTML = docLinkHtml;\n",
              "          element.appendChild(docLink);\n",
              "        }\n",
              "      </script>\n",
              "    </div>\n",
              "  </div>\n",
              "  "
            ]
          },
          "metadata": {},
          "execution_count": 14
        }
      ]
    },
    {
      "cell_type": "code",
      "source": [
        "dfsp.columns"
      ],
      "metadata": {
        "colab": {
          "base_uri": "https://localhost:8080/"
        },
        "id": "wrgvOmktJ9tC",
        "outputId": "fddd11d3-27fb-4a50-f867-a3295159fdb7"
      },
      "execution_count": null,
      "outputs": [
        {
          "output_type": "execute_result",
          "data": {
            "text/plain": [
              "Index(['tipo_crime', 'n_vitimas', 'datahora_fato', 'periodo_ocorrencia',\n",
              "       'tipo_pessoa', 'sexo_pessoa', 'dt_nasc_pessoa', 'idade_pessoa',\n",
              "       'faixa_etaria_pessoa', 'cor_pele', 'profissao', 'cidade',\n",
              "       'dp_circunscricao', 'tipo_local_fato', 'logradouro', 'n_logradouro',\n",
              "       'latitude_longitude', 'corporacao_policial', 'situacao_policial'],\n",
              "      dtype='object')"
            ]
          },
          "metadata": {},
          "execution_count": 15
        }
      ]
    },
    {
      "cell_type": "code",
      "source": [
        "#Renomear as colunas SP\n",
        "dfsp.rename(columns={\n",
        "    'datahora_fato': 'data_ocorrencia', 'sexo_pessoa' : 'sexo_vitima', 'faixa_etaria_pessoa': 'faixa_etaria_vitima', \n",
        "    'cor_pele' : 'cor_pele_vitima'},inplace=True)\n"
      ],
      "metadata": {
        "id": "5Ky--JNhssqE"
      },
      "execution_count": null,
      "outputs": []
    },
    {
      "cell_type": "markdown",
      "source": [
        "### ▶️ **Criando coluna bairro e coluna distrito_zona em SP**"
      ],
      "metadata": {
        "id": "TyLoBPf4Vdze"
      }
    },
    {
      "cell_type": "code",
      "source": [
        "#Segundo a prefeitura de SP, esse DP mudou de nome https://www.prefeitura.sp.gov.br/cidade/secretarias/direitos_humanos/mulheres/rede_de_atendimento/index.php?p=209661\n",
        "#Incluindo bairro e regiao\n",
        "dfsp.replace({\n",
        "'001 DP - Sé':'001 DP - Liberdade;Liberdade;Centro',\n",
        "'002 DP - Bom Retiro':'002 DP - Bom Retiro;Bom Retiro;Centro',\n",
        "'003 DP - Campos Elíseos':'003 DP - Campos Elíseos;Santa Efigênia;Centro',\n",
        "'004 DP - Consolação':'004 DP - Consolação;Consolação;Centro',\n",
        "'005 DP - Aclimação':'005 DP - Aclimação;Liberdade;Centro',\n",
        "'006 DP - Cambuci':'006 DP - Cambuci;Cambuci;Centro',\n",
        "'007 DP - Lapa':'007 DP - Lapa;Vila Romana;Zona Oeste',\n",
        "'008 DP - Brás':'008 DP - Brás;Brás;Zona Leste',\n",
        "'009 DP - Carandiru':'009 DP - Carandiru;Carandiru;Zona Norte',\n",
        "'010 DP - Penha de França':'010 DP - Penha de França;Penha;Zona Leste',\n",
        "'011 DP - Santo Amaro':'011 DP - Santo Amaro;Santo Amaro;Zona Sul',\n",
        "'012 DP - Pari':'012 DP - Pari;Brás;Centro',\n",
        "'013 DP - Casa Verde':'013 DP - Casa Verde;Casa Verde;Zona Norte',\n",
        "'014 DP - Pinheiros':'014 DP - Pinheiros;Pinheiros;Zona Oeste',\n",
        "'015 DP - Itaim Bibi':'015 DP - Itaim Bibi;Itaim Bibi;Zona Oeste',\n",
        "'016 DP - Vila Clementino':'016 DP - Vila Clementino;Vila Clementino;Zona Sul',\n",
        "'017 DP - Ipiranga':'017 DP - Ipiranga;Ipiranga;Zona Sul',\n",
        "'018 DP - Alto da Mooca':'018 DP - Alto da Mooca;Alto da Mooca;Zona Leste',\n",
        "'019 DP - Vila Maria':'019 DP - Vila Maria;Vila Maria;Zona Norte',\n",
        "'020 DP - Água Fria':'020 DP - Água Fria;Jardim França;Zona Norte',\n",
        "'021 DP - Vila Matilde':'021 DP - Vila Matilde;Chácara Seis de Outubro;Zona Leste',\n",
        "'022 DP - São Miguel Paulista':'022 DP - São Miguel Paulista;Vila Americana;Zona Leste',\n",
        "'023 DP - Perdizes':'023 DP - Perdizes;Perdizes;Zona Oeste',\n",
        "'024 DP - Ponte Rasa':'024 DP - Ponte Rasa;Ponte Rasa;Zona Leste',\n",
        "'025 DP - Parelheiros':'025 DP - Parelheiros;Parelheiros;Zona Sul',\n",
        "'026 DP - Sacomã':'026 DP - Sacomã;Sacomã;Zona Sul',\n",
        "'027 DP - Campo Belo':'027 DP - Campo Belo;Campo Belo;Zona Sul',\n",
        "'028 DP - Freguesia do Ó':'028 DP - Freguesia do Ó;Freguesia do Ó;Zona Norte',\n",
        "'029 DP - Vila Diva':'029 DP - Vila Diva;Vila Diva;Zona Leste',\n",
        "'030 DP - Tatuapé':'030 DP - Tatuapé;Tatuapé;Zona Leste',\n",
        "'031 DP - Vila Carrão':'031 DP - Vila Carrão;Vila Carrão;Zona Leste',\n",
        "'032 DP - Itaquera':'032 DP - Itaquera;Itaquera;Zona Leste',\n",
        "'033 DP - Pirituba':'033 DP - Pirituba;Pirituba;Zona Norte',\n",
        "'034 DP - Vila Sonia':'034 DP - Vila Sonia;Vila Sônia/Morumbi;Zona Sul',\n",
        "'035 DP - Jabaquara':'035 DP - Jabaquara;Jabaquara;Zona Sul',\n",
        "'036 DP - Vila Mariana':'036 DP - Vila Mariana;Vila Mariana;Zona Sul',\n",
        "'037 DP - Campo Limpo':'037 DP - Campo Limpo;Campo Limpo;Zona Sul',\n",
        "'038 DP - Vila Amália':'038 DP - Vila Amália;Vila Amália;Zona Norte',\n",
        "'039 DP - Vila Gustavo':'039 DP - Vila Gustavo;Vila Gustavo;Zona Norte',\n",
        "'040 DP - Vila Santa Maria':'040 DP - Vila Santa Maria;Vila Santa Maria;Zona Norte',\n",
        "'041 DP - Vila Rica':'041 DP - Vila Rica;Vila Rica;Zona Leste',\n",
        "'042 DP - Parque São Lucas':'042 DP - Parque São Lucas;Parque São Lucas;Zona Leste',\n",
        "'043 DP - Cidade Ademar':'043 DP - Cidade Ademar;Cidade Ademar;Zona Sul',\n",
        "'044 DP - Guaianazes':'044 DP - Guaianazes;Guaianazes;Zona Leste',\n",
        "'045 DP - Vila Brasilândia':'045 DP - Vila Brasilândia;Vila Brasilândia;Zona Norte',\n",
        "'046 DP - Perus':'046 DP - Perus;Perus;Zona Norte',\n",
        "'047 DP - Capão Redondo':'047 DP - Capão Redondo;Capão Redondo;Zona Sul',\n",
        "'048 DP - Cidade Dutra':'048 DP - Cidade Dutra;Cidade Dutra;Zona Sul',\n",
        "'049 DP - São Mateus':'049 DP - São Mateus;São Mateus;Zona Leste',\n",
        "'050 DP - Itaim Paulista':'050 DP - Itaim Paulista;Itaim Paulista;Zona Leste',\n",
        "'051 DP - Butantã':'051 DP - Butantã;Butantã;Zona Oeste',\n",
        "'052 DP - Parque São Jorge':'052 DP - Parque São Jorge;Parque São Jorge;Zona Leste',\n",
        "'053 DP - Parque do Carmo':'053 DP - Parque do Carmo;Parque do Carmo;Zona Leste',\n",
        "'054 DP - Cidade Tiradentes':'054 DP - Cidade Tiradentes;Cidade Tiradentes;Zona Leste',\n",
        "'055 DP - Parque São Rafael':'055 DP - Parque São Rafael;Parque São Rafael;Zona Sul',\n",
        "'056 DP - Vila Alpina':'056 DP - Vila Alpina;Vila Alpina;Zona Leste',\n",
        "'057 DP - Parque da Mooca':'057 DP - Parque da Mooca;Parque Da Mooca;Zona Leste',\n",
        "'058 DP - Vila Formosa':'058 DP - Vila Formosa;Vila Formosa;Zona Leste',\n",
        "'059 DP - Jardim Noemia':'059 DP - Jardim Noemia;Jardim Noêmia;Zona Leste',\n",
        "'062 DP - Ermelino Matarazzo':'062 DP - Ermelino Matarazzo;Ermelino Matarazzo;Zona Leste',\n",
        "'063 DP - Vila Jacuí':'063 DP - Vila Jacuí;Vila Jacuí;Zona Leste',\n",
        "'064 DP - Cidade A E Carvalho':'064 DP - Cidade A E Carvalho;Cidade A. E. Carvalho;Zona Leste',\n",
        "'065 DP - Artur Alvim':'065 DP - Artur Alvim;Artur Alvim;Zona Leste',\n",
        "'066 DP - Vale do Aricanduva':'066 DP - Vale do Aricanduva;Jardim Aricanduva;Zona Leste',\n",
        "'067 DP - Jardim Robru':'067 DP - Jardim Robru;Jardim Robru;Zona Leste',\n",
        "'068 DP - Lajeado':'068 DP - Lajeado;Lageado;Zona Leste',\n",
        "'069 DP - Teotônio Vilela':'069 DP - Teotônio Vilela;Teotônio Vilela;Zona Leste',\n",
        "'070 DP - Vila Ema':'070 DP - Vila Ema;Sapopemba;Zona Leste',\n",
        "'072 DP - Vila Penteado':'072 DP - Vila Penteado;Vila Penteado;Zona Norte',\n",
        "'073 DP - Jaçanã':'073 DP - Jaçanã;Jaçanã;Zona Norte',\n",
        "'074 DP - Jaraguá':'074 DP - Jaraguá;Jaraguá;Zona Norte',\n",
        "'075 DP - Jardim Arpoador':'075 DP - Jardim Arpoador;Jardim Arpoador;Zona Oeste',\n",
        "'077 DP - Santa Cecília':'077 DP - Santa Cecília;Santa Cecília;Centro',\n",
        "'078 DP - Jardins':'078 DP - Jardins;Jardins;Zona Oeste',\n",
        "'080 DP - Vila Joaniza':'080 DP - Vila Joaniza;Vila Joaniza;Zona Sul',\n",
        "'081 DP - Belém':'081 DP - Belém;Belém;Zona Leste',\n",
        "'083 DP - Parque Bristol':'083 DP - Parque Bristol;Parque Bristol;Zona Sul',\n",
        "'085 DP - Jardim Mirna':'085 DP - Jardim Mirna;Jardim Mirna;Zona Sul',\n",
        "'087 DP - Vila Pereira Barreto':'087 DP - Vila Pereira Barreto;Vila Pereira Barreto;Zona Norte',\n",
        "'089 DP - Portal do Morumbi':'089 DP - Portal do Morumbi;Portal do Morumbi;Zona Sul',\n",
        "'090 DP - Parque Novo Mundo':'090 DP - Parque Novo Mundo;Parque Novo Mundo;Zona Norte',\n",
        "'091 DP - Ceagesp':'091 DP - Ceagesp;CEAGESP;Zona Oeste',\n",
        "'092 DP - Parque Santo Antônio':'092 DP - Parque Santo Antônio;Parque Santo Antonio;Zona Sul',\n",
        "'093 DP - Jaguaré':'093 DP - Jaguaré;Jaguaré;Zona Oeste',\n",
        "'095 DP - Heliópolis':'095 DP - Heliópolis;Cohab Heliópolis;Zona Sul',\n",
        "'096 DP - Monções':'096 DP - Monções;Brooklin;Zona Sul',\n",
        "'097 DP - Americanópolis':'097 DP - Americanópolis;Americanópolis;Zona Sul',\n",
        "'098 DP - Jardim Míriam':'098 DP - Jardim Míriam;Jardim Miriam;Zona Sul',\n",
        "'099 DP - Campo Grande':'099 DP - Campo Grande;Campo Grande;Zona Sul',\n",
        "'100 DP - Jardim Herculano':'100 DP - Jardim Herculano;Jardim Herculano;Zona Sul',\n",
        "'101 DP - Jardim das Imbuias':'101 DP - Jardim das Imbuias;Jardim das Imbuias;Zona Sul',\n",
        "'102 DP - Socorro':'102 DP - Socorro;Socorro;Zona Sul',\n",
        "'103 DP - Cohab Itaquera':'103 DP - Cohab Itaquera;Itaquera;Zona Leste'}, inplace=True)\n"
      ],
      "metadata": {
        "id": "eGeJRPpEUpb7"
      },
      "execution_count": null,
      "outputs": []
    },
    {
      "cell_type": "code",
      "source": [
        "pd.unique(dfsp['dp_circunscricao'])"
      ],
      "metadata": {
        "colab": {
          "base_uri": "https://localhost:8080/"
        },
        "id": "fVFzPKnh7iBi",
        "outputId": "e3df7840-1aa2-42b3-ee02-ef7645bc1bcb"
      },
      "execution_count": null,
      "outputs": [
        {
          "output_type": "execute_result",
          "data": {
            "text/plain": [
              "array(['002 DP - Bom Retiro;Bom Retiro;Centro',\n",
              "       '008 DP - Brás;Brás;Zona Leste',\n",
              "       '078 DP - Jardins;Jardins;Zona Oeste',\n",
              "       '017 DP - Ipiranga;Ipiranga;Zona Sul',\n",
              "       '083 DP - Parque Bristol;Parque Bristol;Zona Sul',\n",
              "       '014 DP - Pinheiros;Pinheiros;Zona Oeste',\n",
              "       '023 DP - Perdizes;Perdizes;Zona Oeste',\n",
              "       '037 DP - Campo Limpo;Campo Limpo;Zona Sul',\n",
              "       '046 DP - Perus;Perus;Zona Norte',\n",
              "       '075 DP - Jardim Arpoador;Jardim Arpoador;Zona Oeste',\n",
              "       '087 DP - Vila Pereira Barreto;Vila Pereira Barreto;Zona Norte',\n",
              "       '089 DP - Portal do Morumbi;Portal do Morumbi;Zona Sul',\n",
              "       '013 DP - Casa Verde;Casa Verde;Zona Norte',\n",
              "       '038 DP - Vila Amália;Vila Amália;Zona Norte',\n",
              "       '073 DP - Jaçanã;Jaçanã;Zona Norte',\n",
              "       '074 DP - Jaraguá;Jaraguá;Zona Norte',\n",
              "       '010 DP - Penha de França;Penha;Zona Leste',\n",
              "       '058 DP - Vila Formosa;Vila Formosa;Zona Leste',\n",
              "       '011 DP - Santo Amaro;Santo Amaro;Zona Sul',\n",
              "       '025 DP - Parelheiros;Parelheiros;Zona Sul',\n",
              "       '047 DP - Capão Redondo;Capão Redondo;Zona Sul',\n",
              "       '085 DP - Jardim Mirna;Jardim Mirna;Zona Sul',\n",
              "       '092 DP - Parque Santo Antônio;Parque Santo Antonio;Zona Sul',\n",
              "       '098 DP - Jardim Míriam;Jardim Miriam;Zona Sul',\n",
              "       '100 DP - Jardim Herculano;Jardim Herculano;Zona Sul',\n",
              "       '101 DP - Jardim das Imbuias;Jardim das Imbuias;Zona Sul',\n",
              "       '059 DP - Jardim Noemia;Jardim Noêmia;Zona Leste',\n",
              "       '062 DP - Ermelino Matarazzo;Ermelino Matarazzo;Zona Leste',\n",
              "       '063 DP - Vila Jacuí;Vila Jacuí;Zona Leste',\n",
              "       '068 DP - Lajeado;Lageado;Zona Leste',\n",
              "       '044 DP - Guaianazes;Guaianazes;Zona Leste',\n",
              "       '054 DP - Cidade Tiradentes;Cidade Tiradentes;Zona Leste',\n",
              "       '055 DP - Parque São Rafael;Parque São Rafael;Zona Sul',\n",
              "       '070 DP - Vila Ema;Sapopemba;Zona Leste',\n",
              "       '001 DP - Liberdade;Liberdade;Centro',\n",
              "       '006 DP - Cambuci;Cambuci;Centro',\n",
              "       '077 DP - Santa Cecília;Santa Cecília;Centro',\n",
              "       '009 DP - Carandiru;Carandiru;Zona Norte',\n",
              "       '039 DP - Vila Gustavo;Vila Gustavo;Zona Norte',\n",
              "       '045 DP - Vila Brasilândia;Vila Brasilândia;Zona Norte',\n",
              "       '072 DP - Vila Penteado;Vila Penteado;Zona Norte',\n",
              "       '030 DP - Tatuapé;Tatuapé;Zona Leste',\n",
              "       '048 DP - Cidade Dutra;Cidade Dutra;Zona Sul',\n",
              "       '080 DP - Vila Joaniza;Vila Joaniza;Zona Sul',\n",
              "       '099 DP - Campo Grande;Campo Grande;Zona Sul',\n",
              "       '022 DP - São Miguel Paulista;Vila Americana;Zona Leste',\n",
              "       '024 DP - Ponte Rasa;Ponte Rasa;Zona Leste',\n",
              "       '050 DP - Itaim Paulista;Itaim Paulista;Zona Leste',\n",
              "       '065 DP - Artur Alvim;Artur Alvim;Zona Leste',\n",
              "       '067 DP - Jardim Robru;Jardim Robru;Zona Leste',\n",
              "       '049 DP - São Mateus;São Mateus;Zona Leste',\n",
              "       '053 DP - Parque do Carmo;Parque do Carmo;Zona Leste',\n",
              "       '066 DP - Vale do Aricanduva;Jardim Aricanduva;Zona Leste',\n",
              "       '069 DP - Teotônio Vilela;Teotônio Vilela;Zona Leste',\n",
              "       '003 DP - Campos Elíseos;Santa Efigênia;Centro',\n",
              "       '005 DP - Aclimação;Liberdade;Centro',\n",
              "       '016 DP - Vila Clementino;Vila Clementino;Zona Sul',\n",
              "       '033 DP - Pirituba;Pirituba;Zona Norte',\n",
              "       '093 DP - Jaguaré;Jaguaré;Zona Oeste',\n",
              "       '020 DP - Água Fria;Jardim França;Zona Norte',\n",
              "       '028 DP - Freguesia do Ó;Freguesia do Ó;Zona Norte',\n",
              "       '029 DP - Vila Diva;Vila Diva;Zona Leste',\n",
              "       '042 DP - Parque São Lucas;Parque São Lucas;Zona Leste',\n",
              "       '043 DP - Cidade Ademar;Cidade Ademar;Zona Sul',\n",
              "       '102 DP - Socorro;Socorro;Zona Sul',\n",
              "       '032 DP - Itaquera;Itaquera;Zona Leste',\n",
              "       '064 DP - Cidade A E Carvalho;Cidade A. E. Carvalho;Zona Leste',\n",
              "       '095 DP - Heliópolis;Cohab Heliópolis;Zona Sul',\n",
              "       '097 DP - Americanópolis;Americanópolis;Zona Sul',\n",
              "       '034 DP - Vila Sonia;Vila Sônia/Morumbi;Zona Sul',\n",
              "       '051 DP - Butantã;Butantã;Zona Oeste',\n",
              "       '040 DP - Vila Santa Maria;Vila Santa Maria;Zona Norte',\n",
              "       '090 DP - Parque Novo Mundo;Parque Novo Mundo;Zona Norte',\n",
              "       '021 DP - Vila Matilde;Chácara Seis de Outubro;Zona Leste',\n",
              "       '103 DP - Cohab Itaquera;Itaquera;Zona Leste',\n",
              "       '012 DP - Pari;Brás;Centro',\n",
              "       '027 DP - Campo Belo;Campo Belo;Zona Sul',\n",
              "       '007 DP - Lapa;Vila Romana;Zona Oeste',\n",
              "       '026 DP - Sacomã;Sacomã;Zona Sul',\n",
              "       '019 DP - Vila Maria;Vila Maria;Zona Norte',\n",
              "       '004 DP - Consolação;Consolação;Centro',\n",
              "       '096 DP - Monções;Brooklin;Zona Sul',\n",
              "       '041 DP - Vila Rica;Vila Rica;Zona Leste',\n",
              "       '015 DP - Itaim Bibi;Itaim Bibi;Zona Oeste',\n",
              "       '091 DP - Ceagesp;CEAGESP;Zona Oeste',\n",
              "       '052 DP - Parque São Jorge;Parque São Jorge;Zona Leste',\n",
              "       '081 DP - Belém;Belém;Zona Leste',\n",
              "       '036 DP - Vila Mariana;Vila Mariana;Zona Sul',\n",
              "       '035 DP - Jabaquara;Jabaquara;Zona Sul',\n",
              "       '057 DP - Parque da Mooca;Parque Da Mooca;Zona Leste',\n",
              "       '056 DP - Vila Alpina;Vila Alpina;Zona Leste',\n",
              "       '018 DP - Alto da Mooca;Alto da Mooca;Zona Leste',\n",
              "       '031 DP - Vila Carrão;Vila Carrão;Zona Leste'], dtype=object)"
            ]
          },
          "metadata": {},
          "execution_count": 18
        }
      ]
    },
    {
      "cell_type": "code",
      "source": [
        "#  Criar novas colunas, a partir de uma única coluna\n",
        "dfsp['dp_num_nome'] = dfsp['dp_circunscricao'].str.split(';', expand=True)[0]\n",
        "dfsp['bairro'] = dfsp['dp_circunscricao'].str.split(';', expand=True)[1]\n",
        "dfsp['distrito_zona'] = dfsp['dp_circunscricao'].str.split(';', expand=True)[2]"
      ],
      "metadata": {
        "id": "1zh3QY1KVxUy"
      },
      "execution_count": null,
      "outputs": []
    },
    {
      "cell_type": "code",
      "source": [
        "pd.unique(dfsp['distrito_zona'])"
      ],
      "metadata": {
        "colab": {
          "base_uri": "https://localhost:8080/"
        },
        "id": "ElWyyEDE0UzW",
        "outputId": "a6d6d1a1-4fcb-4969-f8e8-0cf2be91e875"
      },
      "execution_count": null,
      "outputs": [
        {
          "output_type": "execute_result",
          "data": {
            "text/plain": [
              "array(['Centro', 'Zona Leste', 'Zona Oeste', 'Zona Sul', 'Zona Norte'],\n",
              "      dtype=object)"
            ]
          },
          "metadata": {},
          "execution_count": 20
        }
      ]
    },
    {
      "cell_type": "code",
      "source": [
        "pd.unique(dfsp['bairro'])"
      ],
      "metadata": {
        "colab": {
          "base_uri": "https://localhost:8080/"
        },
        "id": "rAVBzCf64HGn",
        "outputId": "99dc9b05-c6ae-4d74-909e-640eea9e874e"
      },
      "execution_count": null,
      "outputs": [
        {
          "output_type": "execute_result",
          "data": {
            "text/plain": [
              "array(['Bom Retiro', 'Brás', 'Jardins', 'Ipiranga', 'Parque Bristol',\n",
              "       'Pinheiros', 'Perdizes', 'Campo Limpo', 'Perus', 'Jardim Arpoador',\n",
              "       'Vila Pereira Barreto', 'Portal do Morumbi', 'Casa Verde',\n",
              "       'Vila Amália', 'Jaçanã', 'Jaraguá', 'Penha', 'Vila Formosa',\n",
              "       'Santo Amaro', 'Parelheiros', 'Capão Redondo', 'Jardim Mirna',\n",
              "       'Parque Santo Antonio', 'Jardim Miriam', 'Jardim Herculano',\n",
              "       'Jardim das Imbuias', 'Jardim Noêmia', 'Ermelino Matarazzo',\n",
              "       'Vila Jacuí', 'Lageado', 'Guaianazes', 'Cidade Tiradentes',\n",
              "       'Parque São Rafael', 'Sapopemba', 'Liberdade', 'Cambuci',\n",
              "       'Santa Cecília', 'Carandiru', 'Vila Gustavo', 'Vila Brasilândia',\n",
              "       'Vila Penteado', 'Tatuapé', 'Cidade Dutra', 'Vila Joaniza',\n",
              "       'Campo Grande', 'Vila Americana', 'Ponte Rasa', 'Itaim Paulista',\n",
              "       'Artur Alvim', 'Jardim Robru', 'São Mateus', 'Parque do Carmo',\n",
              "       'Jardim Aricanduva', 'Teotônio Vilela', 'Santa Efigênia',\n",
              "       'Vila Clementino', 'Pirituba', 'Jaguaré', 'Jardim França',\n",
              "       'Freguesia do Ó', 'Vila Diva', 'Parque São Lucas', 'Cidade Ademar',\n",
              "       'Socorro', 'Itaquera', 'Cidade A. E. Carvalho', 'Cohab Heliópolis',\n",
              "       'Americanópolis', 'Vila Sônia/Morumbi', 'Butantã',\n",
              "       'Vila Santa Maria', 'Parque Novo Mundo', 'Chácara Seis de Outubro',\n",
              "       'Campo Belo', 'Vila Romana', 'Sacomã', 'Vila Maria', 'Consolação',\n",
              "       'Brooklin', 'Vila Rica', 'Itaim Bibi', 'CEAGESP',\n",
              "       'Parque São Jorge', 'Belém', 'Vila Mariana', 'Jabaquara',\n",
              "       'Parque Da Mooca', 'Vila Alpina', 'Alto da Mooca', 'Vila Carrão'],\n",
              "      dtype=object)"
            ]
          },
          "metadata": {},
          "execution_count": 21
        }
      ]
    },
    {
      "cell_type": "code",
      "source": [
        "pd.unique(dfsp['dp_num_nome'])"
      ],
      "metadata": {
        "id": "7vipRV3S4LLs",
        "colab": {
          "base_uri": "https://localhost:8080/"
        },
        "outputId": "24f7b199-579f-489a-d398-aae86793fe74"
      },
      "execution_count": null,
      "outputs": [
        {
          "output_type": "execute_result",
          "data": {
            "text/plain": [
              "array(['002 DP - Bom Retiro', '008 DP - Brás', '078 DP - Jardins',\n",
              "       '017 DP - Ipiranga', '083 DP - Parque Bristol',\n",
              "       '014 DP - Pinheiros', '023 DP - Perdizes', '037 DP - Campo Limpo',\n",
              "       '046 DP - Perus', '075 DP - Jardim Arpoador',\n",
              "       '087 DP - Vila Pereira Barreto', '089 DP - Portal do Morumbi',\n",
              "       '013 DP - Casa Verde', '038 DP - Vila Amália', '073 DP - Jaçanã',\n",
              "       '074 DP - Jaraguá', '010 DP - Penha de França',\n",
              "       '058 DP - Vila Formosa', '011 DP - Santo Amaro',\n",
              "       '025 DP - Parelheiros', '047 DP - Capão Redondo',\n",
              "       '085 DP - Jardim Mirna', '092 DP - Parque Santo Antônio',\n",
              "       '098 DP - Jardim Míriam', '100 DP - Jardim Herculano',\n",
              "       '101 DP - Jardim das Imbuias', '059 DP - Jardim Noemia',\n",
              "       '062 DP - Ermelino Matarazzo', '063 DP - Vila Jacuí',\n",
              "       '068 DP - Lajeado', '044 DP - Guaianazes',\n",
              "       '054 DP - Cidade Tiradentes', '055 DP - Parque São Rafael',\n",
              "       '070 DP - Vila Ema', '001 DP - Liberdade', '006 DP - Cambuci',\n",
              "       '077 DP - Santa Cecília', '009 DP - Carandiru',\n",
              "       '039 DP - Vila Gustavo', '045 DP - Vila Brasilândia',\n",
              "       '072 DP - Vila Penteado', '030 DP - Tatuapé',\n",
              "       '048 DP - Cidade Dutra', '080 DP - Vila Joaniza',\n",
              "       '099 DP - Campo Grande', '022 DP - São Miguel Paulista',\n",
              "       '024 DP - Ponte Rasa', '050 DP - Itaim Paulista',\n",
              "       '065 DP - Artur Alvim', '067 DP - Jardim Robru',\n",
              "       '049 DP - São Mateus', '053 DP - Parque do Carmo',\n",
              "       '066 DP - Vale do Aricanduva', '069 DP - Teotônio Vilela',\n",
              "       '003 DP - Campos Elíseos', '005 DP - Aclimação',\n",
              "       '016 DP - Vila Clementino', '033 DP - Pirituba',\n",
              "       '093 DP - Jaguaré', '020 DP - Água Fria',\n",
              "       '028 DP - Freguesia do Ó', '029 DP - Vila Diva',\n",
              "       '042 DP - Parque São Lucas', '043 DP - Cidade Ademar',\n",
              "       '102 DP - Socorro', '032 DP - Itaquera',\n",
              "       '064 DP - Cidade A E Carvalho', '095 DP - Heliópolis',\n",
              "       '097 DP - Americanópolis', '034 DP - Vila Sonia',\n",
              "       '051 DP - Butantã', '040 DP - Vila Santa Maria',\n",
              "       '090 DP - Parque Novo Mundo', '021 DP - Vila Matilde',\n",
              "       '103 DP - Cohab Itaquera', '012 DP - Pari', '027 DP - Campo Belo',\n",
              "       '007 DP - Lapa', '026 DP - Sacomã', '019 DP - Vila Maria',\n",
              "       '004 DP - Consolação', '096 DP - Monções', '041 DP - Vila Rica',\n",
              "       '015 DP - Itaim Bibi', '091 DP - Ceagesp',\n",
              "       '052 DP - Parque São Jorge', '081 DP - Belém',\n",
              "       '036 DP - Vila Mariana', '035 DP - Jabaquara',\n",
              "       '057 DP - Parque da Mooca', '056 DP - Vila Alpina',\n",
              "       '018 DP - Alto da Mooca', '031 DP - Vila Carrão'], dtype=object)"
            ]
          },
          "metadata": {},
          "execution_count": 22
        }
      ]
    },
    {
      "cell_type": "code",
      "source": [
        "# Realizando drop das colunas\n",
        "dfsp.drop(labels=['dp_circunscricao'], axis=1, inplace = True)"
      ],
      "metadata": {
        "id": "RJGb6B6A4VIg"
      },
      "execution_count": null,
      "outputs": []
    },
    {
      "cell_type": "code",
      "source": [
        "dfsp.columns"
      ],
      "metadata": {
        "colab": {
          "base_uri": "https://localhost:8080/"
        },
        "id": "4TqZWEFiVxfv",
        "outputId": "e519acee-0a76-4157-d306-93f1575be93d"
      },
      "execution_count": null,
      "outputs": [
        {
          "output_type": "execute_result",
          "data": {
            "text/plain": [
              "Index(['tipo_crime', 'n_vitimas', 'data_ocorrencia', 'periodo_ocorrencia',\n",
              "       'tipo_pessoa', 'sexo_vitima', 'dt_nasc_pessoa', 'idade_pessoa',\n",
              "       'faixa_etaria_vitima', 'cor_pele_vitima', 'profissao', 'cidade',\n",
              "       'dp_circunscricao', 'tipo_local_fato', 'logradouro', 'n_logradouro',\n",
              "       'latitude_longitude', 'corporacao_policial', 'situacao_policial',\n",
              "       'dp_num_nome', 'bairro', 'distrito_zona'],\n",
              "      dtype='object')"
            ]
          },
          "metadata": {},
          "execution_count": 23
        }
      ]
    },
    {
      "cell_type": "code",
      "source": [
        "pd.unique(dfsp['latitude_longitude'])"
      ],
      "metadata": {
        "colab": {
          "base_uri": "https://localhost:8080/"
        },
        "id": "6dyA6fZkTxlx",
        "outputId": "71abd365-a76c-4e9d-ec3f-41bc488ef084"
      },
      "execution_count": null,
      "outputs": [
        {
          "output_type": "execute_result",
          "data": {
            "text/plain": [
              "array(['-23.523712052,-46.606388286', nan,\n",
              "       '-23.5538998601755,-46.617413203967', ...,\n",
              "       '-23.5862357639055,-46.5232831894972',\n",
              "       '-23.5375081569999,-46.641650037',\n",
              "       '-23.569583496,-46.5082611879999'], dtype=object)"
            ]
          },
          "metadata": {},
          "execution_count": 24
        }
      ]
    },
    {
      "cell_type": "markdown",
      "source": [
        "##📒 **5 - Concatenação dos arquivos**"
      ],
      "metadata": {
        "id": "GdobXKWutspH"
      }
    },
    {
      "cell_type": "code",
      "source": [
        "# concat dos dados\n",
        "df_geral = pd.concat([dfny, dfsp])"
      ],
      "metadata": {
        "id": "8cjsnr4Dt61J"
      },
      "execution_count": null,
      "outputs": []
    },
    {
      "cell_type": "code",
      "source": [
        "df_geral.head(2)"
      ],
      "metadata": {
        "id": "DgNvr49KYaqz",
        "colab": {
          "base_uri": "https://localhost:8080/",
          "height": 228
        },
        "outputId": "e1f371da-c5a1-42e9-eb80-87539321ff10"
      },
      "execution_count": null,
      "outputs": [
        {
          "output_type": "execute_result",
          "data": {
            "text/plain": [
              "      cidade        tipo_crime distrito_zona      data_ocorrencia  \\\n",
              "0  Nova York  Homicídio Doloso         Bronx  2018-07-09 14:25:00   \n",
              "1  Nova York  Homicídio Doloso      Brooklyn  2018-03-14 05:00:00   \n",
              "\n",
              "  periodo_ocorrencia faixa_etaria_suspeito cor_pele_suspeito sexo_suspeito  \\\n",
              "0              Tarde                 25-44            Branca     Masculino   \n",
              "1          Madrugada                 25-44             Preta     Masculino   \n",
              "\n",
              "  faixa_etaria_vitima cor_pele_vitima sexo_vitima          latitude_longitude  \\\n",
              "0               25-44           Preta   Masculino  40.804012949,-73.878331833   \n",
              "1                 <18           Preta    Feminino  40.661502264,-73.907661037   \n",
              "\n",
              "                              desc_foro  n_vitimas tipo_pessoa dt_nasc_pessoa  \\\n",
              "0                                 Outro        NaN         NaN            NaN   \n",
              "1  Departamento de Polícia de Nova York        NaN         NaN            NaN   \n",
              "\n",
              "   idade_pessoa profissao dp_circunscricao tipo_local_fato logradouro  \\\n",
              "0           NaN       NaN              NaN             NaN        NaN   \n",
              "1           NaN       NaN              NaN             NaN        NaN   \n",
              "\n",
              "  n_logradouro corporacao_policial situacao_policial dp_num_nome bairro  \n",
              "0          NaN                 NaN               NaN         NaN    NaN  \n",
              "1          NaN                 NaN               NaN         NaN    NaN  "
            ],
            "text/html": [
              "\n",
              "  <div id=\"df-8b26203d-a33f-43f9-b381-13b5f53d28e4\">\n",
              "    <div class=\"colab-df-container\">\n",
              "      <div>\n",
              "<style scoped>\n",
              "    .dataframe tbody tr th:only-of-type {\n",
              "        vertical-align: middle;\n",
              "    }\n",
              "\n",
              "    .dataframe tbody tr th {\n",
              "        vertical-align: top;\n",
              "    }\n",
              "\n",
              "    .dataframe thead th {\n",
              "        text-align: right;\n",
              "    }\n",
              "</style>\n",
              "<table border=\"1\" class=\"dataframe\">\n",
              "  <thead>\n",
              "    <tr style=\"text-align: right;\">\n",
              "      <th></th>\n",
              "      <th>cidade</th>\n",
              "      <th>tipo_crime</th>\n",
              "      <th>distrito_zona</th>\n",
              "      <th>data_ocorrencia</th>\n",
              "      <th>periodo_ocorrencia</th>\n",
              "      <th>faixa_etaria_suspeito</th>\n",
              "      <th>cor_pele_suspeito</th>\n",
              "      <th>sexo_suspeito</th>\n",
              "      <th>faixa_etaria_vitima</th>\n",
              "      <th>cor_pele_vitima</th>\n",
              "      <th>sexo_vitima</th>\n",
              "      <th>latitude_longitude</th>\n",
              "      <th>desc_foro</th>\n",
              "      <th>n_vitimas</th>\n",
              "      <th>tipo_pessoa</th>\n",
              "      <th>dt_nasc_pessoa</th>\n",
              "      <th>idade_pessoa</th>\n",
              "      <th>profissao</th>\n",
              "      <th>dp_circunscricao</th>\n",
              "      <th>tipo_local_fato</th>\n",
              "      <th>logradouro</th>\n",
              "      <th>n_logradouro</th>\n",
              "      <th>corporacao_policial</th>\n",
              "      <th>situacao_policial</th>\n",
              "      <th>dp_num_nome</th>\n",
              "      <th>bairro</th>\n",
              "    </tr>\n",
              "  </thead>\n",
              "  <tbody>\n",
              "    <tr>\n",
              "      <th>0</th>\n",
              "      <td>Nova York</td>\n",
              "      <td>Homicídio Doloso</td>\n",
              "      <td>Bronx</td>\n",
              "      <td>2018-07-09 14:25:00</td>\n",
              "      <td>Tarde</td>\n",
              "      <td>25-44</td>\n",
              "      <td>Branca</td>\n",
              "      <td>Masculino</td>\n",
              "      <td>25-44</td>\n",
              "      <td>Preta</td>\n",
              "      <td>Masculino</td>\n",
              "      <td>40.804012949,-73.878331833</td>\n",
              "      <td>Outro</td>\n",
              "      <td>NaN</td>\n",
              "      <td>NaN</td>\n",
              "      <td>NaN</td>\n",
              "      <td>NaN</td>\n",
              "      <td>NaN</td>\n",
              "      <td>NaN</td>\n",
              "      <td>NaN</td>\n",
              "      <td>NaN</td>\n",
              "      <td>NaN</td>\n",
              "      <td>NaN</td>\n",
              "      <td>NaN</td>\n",
              "      <td>NaN</td>\n",
              "      <td>NaN</td>\n",
              "    </tr>\n",
              "    <tr>\n",
              "      <th>1</th>\n",
              "      <td>Nova York</td>\n",
              "      <td>Homicídio Doloso</td>\n",
              "      <td>Brooklyn</td>\n",
              "      <td>2018-03-14 05:00:00</td>\n",
              "      <td>Madrugada</td>\n",
              "      <td>25-44</td>\n",
              "      <td>Preta</td>\n",
              "      <td>Masculino</td>\n",
              "      <td>&lt;18</td>\n",
              "      <td>Preta</td>\n",
              "      <td>Feminino</td>\n",
              "      <td>40.661502264,-73.907661037</td>\n",
              "      <td>Departamento de Polícia de Nova York</td>\n",
              "      <td>NaN</td>\n",
              "      <td>NaN</td>\n",
              "      <td>NaN</td>\n",
              "      <td>NaN</td>\n",
              "      <td>NaN</td>\n",
              "      <td>NaN</td>\n",
              "      <td>NaN</td>\n",
              "      <td>NaN</td>\n",
              "      <td>NaN</td>\n",
              "      <td>NaN</td>\n",
              "      <td>NaN</td>\n",
              "      <td>NaN</td>\n",
              "      <td>NaN</td>\n",
              "    </tr>\n",
              "  </tbody>\n",
              "</table>\n",
              "</div>\n",
              "      <button class=\"colab-df-convert\" onclick=\"convertToInteractive('df-8b26203d-a33f-43f9-b381-13b5f53d28e4')\"\n",
              "              title=\"Convert this dataframe to an interactive table.\"\n",
              "              style=\"display:none;\">\n",
              "        \n",
              "  <svg xmlns=\"http://www.w3.org/2000/svg\" height=\"24px\"viewBox=\"0 0 24 24\"\n",
              "       width=\"24px\">\n",
              "    <path d=\"M0 0h24v24H0V0z\" fill=\"none\"/>\n",
              "    <path d=\"M18.56 5.44l.94 2.06.94-2.06 2.06-.94-2.06-.94-.94-2.06-.94 2.06-2.06.94zm-11 1L8.5 8.5l.94-2.06 2.06-.94-2.06-.94L8.5 2.5l-.94 2.06-2.06.94zm10 10l.94 2.06.94-2.06 2.06-.94-2.06-.94-.94-2.06-.94 2.06-2.06.94z\"/><path d=\"M17.41 7.96l-1.37-1.37c-.4-.4-.92-.59-1.43-.59-.52 0-1.04.2-1.43.59L10.3 9.45l-7.72 7.72c-.78.78-.78 2.05 0 2.83L4 21.41c.39.39.9.59 1.41.59.51 0 1.02-.2 1.41-.59l7.78-7.78 2.81-2.81c.8-.78.8-2.07 0-2.86zM5.41 20L4 18.59l7.72-7.72 1.47 1.35L5.41 20z\"/>\n",
              "  </svg>\n",
              "      </button>\n",
              "      \n",
              "  <style>\n",
              "    .colab-df-container {\n",
              "      display:flex;\n",
              "      flex-wrap:wrap;\n",
              "      gap: 12px;\n",
              "    }\n",
              "\n",
              "    .colab-df-convert {\n",
              "      background-color: #E8F0FE;\n",
              "      border: none;\n",
              "      border-radius: 50%;\n",
              "      cursor: pointer;\n",
              "      display: none;\n",
              "      fill: #1967D2;\n",
              "      height: 32px;\n",
              "      padding: 0 0 0 0;\n",
              "      width: 32px;\n",
              "    }\n",
              "\n",
              "    .colab-df-convert:hover {\n",
              "      background-color: #E2EBFA;\n",
              "      box-shadow: 0px 1px 2px rgba(60, 64, 67, 0.3), 0px 1px 3px 1px rgba(60, 64, 67, 0.15);\n",
              "      fill: #174EA6;\n",
              "    }\n",
              "\n",
              "    [theme=dark] .colab-df-convert {\n",
              "      background-color: #3B4455;\n",
              "      fill: #D2E3FC;\n",
              "    }\n",
              "\n",
              "    [theme=dark] .colab-df-convert:hover {\n",
              "      background-color: #434B5C;\n",
              "      box-shadow: 0px 1px 3px 1px rgba(0, 0, 0, 0.15);\n",
              "      filter: drop-shadow(0px 1px 2px rgba(0, 0, 0, 0.3));\n",
              "      fill: #FFFFFF;\n",
              "    }\n",
              "  </style>\n",
              "\n",
              "      <script>\n",
              "        const buttonEl =\n",
              "          document.querySelector('#df-8b26203d-a33f-43f9-b381-13b5f53d28e4 button.colab-df-convert');\n",
              "        buttonEl.style.display =\n",
              "          google.colab.kernel.accessAllowed ? 'block' : 'none';\n",
              "\n",
              "        async function convertToInteractive(key) {\n",
              "          const element = document.querySelector('#df-8b26203d-a33f-43f9-b381-13b5f53d28e4');\n",
              "          const dataTable =\n",
              "            await google.colab.kernel.invokeFunction('convertToInteractive',\n",
              "                                                     [key], {});\n",
              "          if (!dataTable) return;\n",
              "\n",
              "          const docLinkHtml = 'Like what you see? Visit the ' +\n",
              "            '<a target=\"_blank\" href=https://colab.research.google.com/notebooks/data_table.ipynb>data table notebook</a>'\n",
              "            + ' to learn more about interactive tables.';\n",
              "          element.innerHTML = '';\n",
              "          dataTable['output_type'] = 'display_data';\n",
              "          await google.colab.output.renderOutput(dataTable, element);\n",
              "          const docLink = document.createElement('div');\n",
              "          docLink.innerHTML = docLinkHtml;\n",
              "          element.appendChild(docLink);\n",
              "        }\n",
              "      </script>\n",
              "    </div>\n",
              "  </div>\n",
              "  "
            ]
          },
          "metadata": {},
          "execution_count": 26
        }
      ]
    },
    {
      "cell_type": "code",
      "source": [
        "# Verificando as colunas\n",
        "df_geral.columns"
      ],
      "metadata": {
        "colab": {
          "base_uri": "https://localhost:8080/"
        },
        "id": "9l4yNc_7Vc75",
        "outputId": "a0d1d1ce-8aa3-4e17-8256-cbae345259a6"
      },
      "execution_count": null,
      "outputs": [
        {
          "output_type": "execute_result",
          "data": {
            "text/plain": [
              "Index(['cidade', 'tipo_crime', 'distrito_zona', 'data_ocorrencia',\n",
              "       'periodo_ocorrencia', 'faixa_etaria_suspeito', 'cor_pele_suspeito',\n",
              "       'sexo_suspeito', 'faixa_etaria_vitima', 'cor_pele_vitima',\n",
              "       'sexo_vitima', 'latitude_longitude', 'desc_foro', 'n_vitimas',\n",
              "       'tipo_pessoa', 'dt_nasc_pessoa', 'idade_pessoa', 'profissao',\n",
              "       'dp_circunscricao', 'tipo_local_fato', 'logradouro', 'n_logradouro',\n",
              "       'corporacao_policial', 'situacao_policial', 'dp_num_nome', 'bairro'],\n",
              "      dtype='object')"
            ]
          },
          "metadata": {},
          "execution_count": 27
        }
      ]
    },
    {
      "cell_type": "code",
      "source": [
        "df_geral.shape"
      ],
      "metadata": {
        "colab": {
          "base_uri": "https://localhost:8080/"
        },
        "id": "8on-CAEw-f__",
        "outputId": "4282381f-b893-4b9f-c610-eeba4e541ba7"
      },
      "execution_count": null,
      "outputs": [
        {
          "output_type": "execute_result",
          "data": {
            "text/plain": [
              "(5720, 26)"
            ]
          },
          "metadata": {},
          "execution_count": 28
        }
      ]
    },
    {
      "cell_type": "markdown",
      "source": [
        "### ▶️ **Alterando informação da faixa etária**"
      ],
      "metadata": {
        "id": "JY5Qawpf2kt8"
      }
    },
    {
      "cell_type": "code",
      "source": [
        "#Alterando a informação de faixa etaria de <18 para 0-18\n",
        "df_geral.faixa_etaria_vitima.replace(['<18'],'0-18',inplace=True) "
      ],
      "metadata": {
        "id": "UHB47ctLCr-3"
      },
      "execution_count": null,
      "outputs": []
    },
    {
      "cell_type": "code",
      "source": [
        "pd.unique(df_geral['faixa_etaria_vitima'])"
      ],
      "metadata": {
        "colab": {
          "base_uri": "https://localhost:8080/"
        },
        "id": "X1xRElXxFDwS",
        "outputId": "57d35a5d-8ec8-4f8c-8f0b-f81070fa6a2a"
      },
      "execution_count": null,
      "outputs": [
        {
          "output_type": "execute_result",
          "data": {
            "text/plain": [
              "array(['25-44', '0-18', '45-64', '18-24', '65+', 'Desconhecido'],\n",
              "      dtype=object)"
            ]
          },
          "metadata": {},
          "execution_count": 30
        }
      ]
    },
    {
      "cell_type": "code",
      "source": [
        "#Alterando a informação de faixa etaria de <18 para 0-18\n",
        "df_geral.faixa_etaria_suspeito.replace(['<18'],'0-18',inplace=True) "
      ],
      "metadata": {
        "id": "IxJdU_HOWPe0"
      },
      "execution_count": null,
      "outputs": []
    },
    {
      "cell_type": "code",
      "source": [
        "pd.unique(df_geral['faixa_etaria_suspeito'])"
      ],
      "metadata": {
        "colab": {
          "base_uri": "https://localhost:8080/"
        },
        "id": "nuzlNQdHWjKV",
        "outputId": "a3f34455-df8d-4fa1-d83a-9cd929e040f8"
      },
      "execution_count": null,
      "outputs": [
        {
          "output_type": "execute_result",
          "data": {
            "text/plain": [
              "array(['25-44', 'Desconhecido', '45-64', '18-24', '0-18', '65+', nan],\n",
              "      dtype=object)"
            ]
          },
          "metadata": {},
          "execution_count": 32
        }
      ]
    },
    {
      "cell_type": "markdown",
      "source": [
        "##💿 **6 - Upload de arquivo final**"
      ],
      "metadata": {
        "id": "p4o8k7U8R7Z5"
      }
    },
    {
      "cell_type": "code",
      "source": [
        "# Gerando arquivo do formato csv\n",
        "df_geral.to_csv('ny_sp_tratado.csv', index = False)"
      ],
      "metadata": {
        "id": "quUHWRDztX_y"
      },
      "execution_count": null,
      "outputs": []
    },
    {
      "cell_type": "markdown",
      "source": [
        "###⬆️ **Envio ao MongoDB**"
      ],
      "metadata": {
        "id": "sRuDmnq4eT3-"
      }
    },
    {
      "cell_type": "code",
      "source": [
        "# Conector do mongo atlas\n",
        "uri = \"mongodb+srv://giovana-soulcode.quvpom8.mongodb.net/?authSource=%24external&authMechanism=MONGODB-X509&retryWrites=true&w=majority\"\n",
        "\n",
        "# Altenticando o Mongo\n",
        "client = MongoClient(uri, \n",
        "                     tls=True,\n",
        "                     tlsCertificateKeyFile='/content/X509-cert-7346878477947766211.pem')"
      ],
      "metadata": {
        "id": "Oi6tWAU5YlHE",
        "colab": {
          "base_uri": "https://localhost:8080/",
          "height": 396
        },
        "outputId": "9c909cb9-54ec-480c-95e0-f4776c12f560"
      },
      "execution_count": null,
      "outputs": [
        {
          "output_type": "error",
          "ename": "FileNotFoundError",
          "evalue": "ignored",
          "traceback": [
            "\u001b[0;31m---------------------------------------------------------------------------\u001b[0m",
            "\u001b[0;31mFileNotFoundError\u001b[0m                         Traceback (most recent call last)",
            "\u001b[0;32m<ipython-input-34-a9a1a62b6c4a>\u001b[0m in \u001b[0;36m<module>\u001b[0;34m\u001b[0m\n\u001b[1;32m      3\u001b[0m \u001b[0;34m\u001b[0m\u001b[0m\n\u001b[1;32m      4\u001b[0m \u001b[0;31m# Altenticando o Mongo\u001b[0m\u001b[0;34m\u001b[0m\u001b[0;34m\u001b[0m\u001b[0;34m\u001b[0m\u001b[0m\n\u001b[0;32m----> 5\u001b[0;31m client = MongoClient(uri, \n\u001b[0m\u001b[1;32m      6\u001b[0m                      \u001b[0mtls\u001b[0m\u001b[0;34m=\u001b[0m\u001b[0;32mTrue\u001b[0m\u001b[0;34m,\u001b[0m\u001b[0;34m\u001b[0m\u001b[0;34m\u001b[0m\u001b[0m\n\u001b[1;32m      7\u001b[0m                      tlsCertificateKeyFile='/content/X509-cert-7346878477947766211.pem')\n",
            "\u001b[0;32m/usr/local/lib/python3.8/dist-packages/pymongo/mongo_client.py\u001b[0m in \u001b[0;36m__init__\u001b[0;34m(self, host, port, document_class, tz_aware, connect, type_registry, **kwargs)\u001b[0m\n\u001b[1;32m    769\u001b[0m         \u001b[0;31m# Validate kwarg options.\u001b[0m\u001b[0;34m\u001b[0m\u001b[0;34m\u001b[0m\u001b[0;34m\u001b[0m\u001b[0m\n\u001b[1;32m    770\u001b[0m         keyword_opts = common._CaseInsensitiveDictionary(\n\u001b[0;32m--> 771\u001b[0;31m             \u001b[0mdict\u001b[0m\u001b[0;34m(\u001b[0m\u001b[0mcommon\u001b[0m\u001b[0;34m.\u001b[0m\u001b[0mvalidate\u001b[0m\u001b[0;34m(\u001b[0m\u001b[0mkeyword_opts\u001b[0m\u001b[0;34m.\u001b[0m\u001b[0mcased_key\u001b[0m\u001b[0;34m(\u001b[0m\u001b[0mk\u001b[0m\u001b[0;34m)\u001b[0m\u001b[0;34m,\u001b[0m \u001b[0mv\u001b[0m\u001b[0;34m)\u001b[0m \u001b[0;32mfor\u001b[0m \u001b[0mk\u001b[0m\u001b[0;34m,\u001b[0m \u001b[0mv\u001b[0m \u001b[0;32min\u001b[0m \u001b[0mkeyword_opts\u001b[0m\u001b[0;34m.\u001b[0m\u001b[0mitems\u001b[0m\u001b[0;34m(\u001b[0m\u001b[0;34m)\u001b[0m\u001b[0;34m)\u001b[0m\u001b[0;34m\u001b[0m\u001b[0;34m\u001b[0m\u001b[0m\n\u001b[0m\u001b[1;32m    772\u001b[0m         )\n\u001b[1;32m    773\u001b[0m \u001b[0;34m\u001b[0m\u001b[0m\n",
            "\u001b[0;32m/usr/local/lib/python3.8/dist-packages/pymongo/mongo_client.py\u001b[0m in \u001b[0;36m<genexpr>\u001b[0;34m(.0)\u001b[0m\n\u001b[1;32m    769\u001b[0m         \u001b[0;31m# Validate kwarg options.\u001b[0m\u001b[0;34m\u001b[0m\u001b[0;34m\u001b[0m\u001b[0;34m\u001b[0m\u001b[0m\n\u001b[1;32m    770\u001b[0m         keyword_opts = common._CaseInsensitiveDictionary(\n\u001b[0;32m--> 771\u001b[0;31m             \u001b[0mdict\u001b[0m\u001b[0;34m(\u001b[0m\u001b[0mcommon\u001b[0m\u001b[0;34m.\u001b[0m\u001b[0mvalidate\u001b[0m\u001b[0;34m(\u001b[0m\u001b[0mkeyword_opts\u001b[0m\u001b[0;34m.\u001b[0m\u001b[0mcased_key\u001b[0m\u001b[0;34m(\u001b[0m\u001b[0mk\u001b[0m\u001b[0;34m)\u001b[0m\u001b[0;34m,\u001b[0m \u001b[0mv\u001b[0m\u001b[0;34m)\u001b[0m \u001b[0;32mfor\u001b[0m \u001b[0mk\u001b[0m\u001b[0;34m,\u001b[0m \u001b[0mv\u001b[0m \u001b[0;32min\u001b[0m \u001b[0mkeyword_opts\u001b[0m\u001b[0;34m.\u001b[0m\u001b[0mitems\u001b[0m\u001b[0;34m(\u001b[0m\u001b[0;34m)\u001b[0m\u001b[0;34m)\u001b[0m\u001b[0;34m\u001b[0m\u001b[0;34m\u001b[0m\u001b[0m\n\u001b[0m\u001b[1;32m    772\u001b[0m         )\n\u001b[1;32m    773\u001b[0m \u001b[0;34m\u001b[0m\u001b[0m\n",
            "\u001b[0;32m/usr/local/lib/python3.8/dist-packages/pymongo/common.py\u001b[0m in \u001b[0;36mvalidate\u001b[0;34m(option, value)\u001b[0m\n\u001b[1;32m    778\u001b[0m     \u001b[0mlower\u001b[0m \u001b[0;34m=\u001b[0m \u001b[0moption\u001b[0m\u001b[0;34m.\u001b[0m\u001b[0mlower\u001b[0m\u001b[0;34m(\u001b[0m\u001b[0;34m)\u001b[0m\u001b[0;34m\u001b[0m\u001b[0;34m\u001b[0m\u001b[0m\n\u001b[1;32m    779\u001b[0m     \u001b[0mvalidator\u001b[0m \u001b[0;34m=\u001b[0m \u001b[0mVALIDATORS\u001b[0m\u001b[0;34m.\u001b[0m\u001b[0mget\u001b[0m\u001b[0;34m(\u001b[0m\u001b[0mlower\u001b[0m\u001b[0;34m,\u001b[0m \u001b[0mraise_config_error\u001b[0m\u001b[0;34m)\u001b[0m\u001b[0;34m\u001b[0m\u001b[0;34m\u001b[0m\u001b[0m\n\u001b[0;32m--> 780\u001b[0;31m     \u001b[0mvalue\u001b[0m \u001b[0;34m=\u001b[0m \u001b[0mvalidator\u001b[0m\u001b[0;34m(\u001b[0m\u001b[0moption\u001b[0m\u001b[0;34m,\u001b[0m \u001b[0mvalue\u001b[0m\u001b[0;34m)\u001b[0m\u001b[0;34m\u001b[0m\u001b[0;34m\u001b[0m\u001b[0m\n\u001b[0m\u001b[1;32m    781\u001b[0m     \u001b[0;32mreturn\u001b[0m \u001b[0moption\u001b[0m\u001b[0;34m,\u001b[0m \u001b[0mvalue\u001b[0m\u001b[0;34m\u001b[0m\u001b[0;34m\u001b[0m\u001b[0m\n\u001b[1;32m    782\u001b[0m \u001b[0;34m\u001b[0m\u001b[0m\n",
            "\u001b[0;32m/usr/local/lib/python3.8/dist-packages/pymongo/common.py\u001b[0m in \u001b[0;36mvalidate_readable\u001b[0;34m(option, value)\u001b[0m\n\u001b[1;32m    221\u001b[0m     \u001b[0;31m# Used in ssl cert checking due to poor ssl module error reporting\u001b[0m\u001b[0;34m\u001b[0m\u001b[0;34m\u001b[0m\u001b[0;34m\u001b[0m\u001b[0m\n\u001b[1;32m    222\u001b[0m     \u001b[0mvalue\u001b[0m \u001b[0;34m=\u001b[0m \u001b[0mvalidate_string\u001b[0m\u001b[0;34m(\u001b[0m\u001b[0moption\u001b[0m\u001b[0;34m,\u001b[0m \u001b[0mvalue\u001b[0m\u001b[0;34m)\u001b[0m\u001b[0;34m\u001b[0m\u001b[0;34m\u001b[0m\u001b[0m\n\u001b[0;32m--> 223\u001b[0;31m     \u001b[0mopen\u001b[0m\u001b[0;34m(\u001b[0m\u001b[0mvalue\u001b[0m\u001b[0;34m,\u001b[0m \u001b[0;34m\"r\"\u001b[0m\u001b[0;34m)\u001b[0m\u001b[0;34m.\u001b[0m\u001b[0mclose\u001b[0m\u001b[0;34m(\u001b[0m\u001b[0;34m)\u001b[0m\u001b[0;34m\u001b[0m\u001b[0;34m\u001b[0m\u001b[0m\n\u001b[0m\u001b[1;32m    224\u001b[0m     \u001b[0;32mreturn\u001b[0m \u001b[0mvalue\u001b[0m\u001b[0;34m\u001b[0m\u001b[0;34m\u001b[0m\u001b[0m\n\u001b[1;32m    225\u001b[0m \u001b[0;34m\u001b[0m\u001b[0m\n",
            "\u001b[0;31mFileNotFoundError\u001b[0m: [Errno 2] No such file or directory: '/content/X509-cert-7346878477947766211.pem'"
          ]
        }
      ]
    },
    {
      "cell_type": "code",
      "source": [
        "# escolha/crie o database e colecao\n",
        "db = client['projeto_final']\n",
        "colecao = db['ny_sp_tratado']\n",
        "\n",
        "# verificar conexão / Qtd. documentos da coleção\n",
        "colecao.count_documents({})"
      ],
      "metadata": {
        "id": "zNtYy8cypGrc"
      },
      "execution_count": null,
      "outputs": []
    },
    {
      "cell_type": "code",
      "source": [
        "# Convertendo para formato dicionário\n",
        "df_dict = df_geral.to_dict(\"records\")\n",
        "\n",
        "\n",
        "#Enviar o df para colecao selecionada no mongo\n",
        "colecao.insert_many(df_dict)"
      ],
      "metadata": {
        "id": "qM6C4GW5p4tk"
      },
      "execution_count": null,
      "outputs": []
    },
    {
      "cell_type": "code",
      "source": [
        "# Verificando a quantidade de documentos da coleção\n",
        "colecao.count_documents({})"
      ],
      "metadata": {
        "id": "a-QQBSYIpu5y"
      },
      "execution_count": null,
      "outputs": []
    },
    {
      "cell_type": "markdown",
      "source": [
        "###⬆️ **Envio ao Google Cloud Storage**"
      ],
      "metadata": {
        "id": "XoB0A9p2jvI4"
      }
    },
    {
      "cell_type": "code",
      "source": [
        "# função para fazer upload de arquivo no bucket\n",
        "def upload_blob(bucket, arquivo, destino):\n",
        "    client = storage.Client()\n",
        "    bucket = client.bucket(bucket)\n",
        "    blob = bucket.blob(destino)\n",
        "\n",
        "    blob.upload_from_filename(arquivo)\n",
        "\n",
        "    print(\n",
        "        f\"Arquivo {arquivo} enviado a {destino}.\"\n",
        "    )"
      ],
      "metadata": {
        "id": "0jGAqvOujrBx"
      },
      "execution_count": null,
      "outputs": []
    },
    {
      "cell_type": "code",
      "source": [
        "# Upload do arquivo \n",
        "bucket = 'projeto-final-agsw'\n",
        "arquivo = '/content/ny_sp_tratado.csv'\n",
        "destino = 'tratados/ny_sp_tratado.csv'\n",
        "upload_blob(bucket, arquivo, destino)"
      ],
      "metadata": {
        "id": "XcwAEV9Cj9ww",
        "colab": {
          "base_uri": "https://localhost:8080/"
        },
        "outputId": "9e56a752-10ce-44b6-c21a-d5ff2099433a"
      },
      "execution_count": null,
      "outputs": [
        {
          "output_type": "stream",
          "name": "stdout",
          "text": [
            "Arquivo /content/ny_sp_tratado.csv enviado a tratados/ny_sp_tratado.csv.\n"
          ]
        }
      ]
    },
    {
      "cell_type": "markdown",
      "source": [
        "## 📈 **8 - Criando os insigths preliminares**"
      ],
      "metadata": {
        "id": "Z87636oMaDbs"
      }
    },
    {
      "cell_type": "markdown",
      "source": [
        "### 🔎 **Realizando Insights**"
      ],
      "metadata": {
        "id": "54EIv9-czAR6"
      }
    },
    {
      "cell_type": "code",
      "source": [
        "#Verificação de qual sexo mais tem vitimas - Masculino\n",
        "df_geral.groupby(['sexo_vitima']).size().sort_values(ascending=False)"
      ],
      "metadata": {
        "colab": {
          "base_uri": "https://localhost:8080/"
        },
        "id": "O7C0J8rvk1tt",
        "outputId": "42ad217c-b1b4-40b5-8192-26a8be8c447d"
      },
      "execution_count": null,
      "outputs": [
        {
          "output_type": "execute_result",
          "data": {
            "text/plain": [
              "sexo_vitima\n",
              "Masculino       5023\n",
              "Feminino         641\n",
              "Desconhecido      56\n",
              "dtype: int64"
            ]
          },
          "metadata": {},
          "execution_count": 37
        }
      ]
    },
    {
      "cell_type": "code",
      "source": [
        "import matplotlib.pyplot as plt\n",
        "import numpy as np\n",
        "qtd = np.array([5023, 641, 56])\n",
        "sexo = ['Masculino', 'Feminino', 'Desconhecido']\n",
        "\n",
        "cores=['#40505f', '#849c6c', 'gold']\n",
        "# O atributo explode indica que fatia do gráfico será destacada. \n",
        "# No exemplo abaixo, será a primeira fatia. \n",
        "#A quantidade de valores é igual ao número de fatias do gráfico. \n",
        "explode = (0.1, 0, 0,)  # explode 1st slice\n",
        "\n",
        "# Atribuindo um título ao gráfico\n",
        "plt.title('Quantidade de vítimas por sexo')\n",
        "\n",
        "plt.pie(qtd, explode=explode, labels=sexo, colors=cores, \n",
        "        autopct='%1.1f%%', shadow=True, startangle=180)\n",
        "\n",
        "#Adiciona Legenda\n",
        "plt.legend(sexo, bbox_to_anchor=(1.3, 1.3),loc='lower right')\n",
        "\n",
        "#Centraliza o gráfico\n",
        "plt.axis('equal')\n",
        "\n",
        "#Ajusta o espaçamento para evitar o recorte do rótulo\n",
        "plt.tight_layout()\n",
        "\n",
        "plt.show()"
      ],
      "metadata": {
        "colab": {
          "base_uri": "https://localhost:8080/",
          "height": 277
        },
        "id": "YfAInHy4k2my",
        "outputId": "30f95b65-2571-476b-81f0-34aaa001d4e6"
      },
      "execution_count": null,
      "outputs": [
        {
          "output_type": "display_data",
          "data": {
            "text/plain": [
              "<Figure size 432x288 with 1 Axes>"
            ],
            "image/png": "[encoded data removed]"
          },
          "metadata": {}
        }
      ]
    },
    {
      "cell_type": "code",
      "source": [],
      "metadata": {
        "id": "8Rhss28d3ko5"
      },
      "execution_count": null,
      "outputs": []
    },
    {
      "cell_type": "code",
      "source": [
        "ft = df_geral['faixa_etaria_vitima'] == '25-44'\n",
        "ft1 = df_geral['cidade'] == 'São Paulo'\n",
        "\n",
        "df_geral1 = df_geral.loc[ft & ft1]"
      ],
      "metadata": {
        "id": "mh3CHm2p3ksU"
      },
      "execution_count": null,
      "outputs": []
    },
    {
      "cell_type": "code",
      "source": [
        "df_geral1.groupby(['distrito_zona']).size().sort_values(ascending=False)"
      ],
      "metadata": {
        "colab": {
          "base_uri": "https://localhost:8080/"
        },
        "id": "wI4icLf04ulo",
        "outputId": "29945880-ab5c-433b-9844-45cfe25e4678"
      },
      "execution_count": null,
      "outputs": [
        {
          "output_type": "execute_result",
          "data": {
            "text/plain": [
              "distrito_zona\n",
              "Zona Sul      572\n",
              "Zona Leste    478\n",
              "Zona Norte    354\n",
              "Centro        102\n",
              "Zona Oeste     93\n",
              "dtype: int64"
            ]
          },
          "metadata": {},
          "execution_count": 41
        }
      ]
    }
  ]
}