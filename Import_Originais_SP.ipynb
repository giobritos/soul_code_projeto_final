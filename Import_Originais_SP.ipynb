{
  "nbformat": 4,
  "nbformat_minor": 0,
  "metadata": {
    "colab": {
      "provenance": [],
      "collapsed_sections": [
        "XnjgG03SYtXy"
      ],
      "toc_visible": true,
      "include_colab_link": true
    },
    "kernelspec": {
      "name": "python3",
      "display_name": "Python 3"
    },
    "language_info": {
      "name": "python"
    }
  },
  "cells": [
    {
      "cell_type": "markdown",
      "metadata": {
        "id": "view-in-github",
        "colab_type": "text"
      },
      "source": [
        "<a href=\"https://colab.research.google.com/github/giobritos/soul_code_projeto_final/blob/main/Import_Originais_SP.ipynb\" target=\"_parent\"><img src=\"https://colab.research.google.com/assets/colab-badge.svg\" alt=\"Open In Colab\"/></a>"
      ]
    },
    {
      "cell_type": "markdown",
      "source": [
        "![São Paulo](https://storage.googleapis.com/projeto-final-agsw/Imagens/transparencia_ssp.png)\n",
        "\n",
        "# 👮 **Importação das Bases Originais de São Paulo**\n",
        "\n",
        "Os dados escolhidos estão disponíveis no **Portal do Governo do estado de São Paulo**, que fica localizado no **Brasil**. [Neste link](https://www.ssp.sp.gov.br/transparenciassp/Consulta.aspx) você acessa eles para consulta e download publicamente. \n",
        "\n",
        "Eles representam os boletins de ocorrência registrados no estado, ao qual vamos filtrar por registros que tiveram **homicidios** dos anos de **2018** à **2021**.\n",
        "\n",
        "Link para a documentação completa do projeto: [clique aqui](https://www.notion.so/Mindful-Data-Consultoria-d495964059c34acb9c8fe3d21dbb5cf6)"
      ],
      "metadata": {
        "id": "Wn5kIXP7W9-B"
      }
    },
    {
      "cell_type": "markdown",
      "source": [
        "## **📚 1 - Instalação e importação das bibliotecas**"
      ],
      "metadata": {
        "id": "YJi1DahFj2JA"
      }
    },
    {
      "cell_type": "code",
      "execution_count": null,
      "metadata": {
        "id": "_MakswGv263Z"
      },
      "outputs": [],
      "source": [
        "# Instaladores \n",
        "\n",
        "# Google Cloud Storage\n",
        "%%capture\n",
        "%pip install gcsfs\n",
        "\n",
        "# Conector MySQL\n",
        "%pip install mysql-connector-python\n",
        "%pip install PyMySQL"
      ]
    },
    {
      "cell_type": "code",
      "source": [
        "# install dependencies\n",
        "import sys\n",
        "!{sys.executable} -m pip install cloud-sql-python-connector[\"pymysql\"] SQLAlchemy"
      ],
      "metadata": {
        "id": "u9ctO9paEVFQ"
      },
      "execution_count": null,
      "outputs": []
    },
    {
      "cell_type": "code",
      "source": [
        "# Conector do Mysql\n",
        "from google.cloud.sql.connector import Connector\n",
        "import sqlalchemy\n",
        "\n",
        "# Conexão do Storage\n",
        "from google.cloud import storage\n",
        "\n",
        "# Importa sistema operacional\n",
        "import os\n",
        "\n",
        "# Pandas\n",
        "import pandas as pd\n",
        "\n",
        "# Numpy\n",
        "import numpy as np\n",
        "\n",
        "# setando configurações de display do pandas\n",
        "pd.set_option('display.max_columns',100)"
      ],
      "metadata": {
        "id": "FKSgoDDZ3KiY"
      },
      "execution_count": null,
      "outputs": []
    },
    {
      "cell_type": "markdown",
      "source": [
        "## 🔗 **2 - Conexão com o DataLake**"
      ],
      "metadata": {
        "id": "XnjgG03SYtXy"
      }
    },
    {
      "cell_type": "code",
      "source": [
        "# Configuração da chave de segurança\n",
        "serviceAccount = '/content/projeto-final-373521-25961e56ca37.json'\n",
        "os.environ['GOOGLE_APPLICATION_CREDENTIALS'] = serviceAccount\n",
        "\n",
        "# Fazer acesso ao bucket do Cloud Storage\n",
        "client = storage.Client()\n",
        "\n",
        "# Criar uma variável para receber o nome do bucket\n",
        "bucket = client.get_bucket('projeto-final-agsw')"
      ],
      "metadata": {
        "id": "dsMlmFoo-Aa2"
      },
      "execution_count": null,
      "outputs": []
    },
    {
      "cell_type": "markdown",
      "source": [
        "## ⚒️📑 **3 - Extração e padronização das bases de dados**\n",
        "\n",
        "Os dados estão no formato .xlsx (excel), separados anualmente em cada aba, vamos juntar todos em uma só tabela para fins de centralização e organização dos dados."
      ],
      "metadata": {
        "id": "3PVjCOvqZkdZ"
      }
    },
    {
      "cell_type": "markdown",
      "source": [
        "### ☑️ **Dados de homicidios dolosos**\n",
        "\n"
      ],
      "metadata": {
        "id": "Q-Gu_CtVk1jv"
      }
    },
    {
      "cell_type": "code",
      "source": [
        "# Gerando Data Frames\n",
        "dfhom1 = pd.read_excel('gs://datasets-originais-agsw/ssp/Homicidio_2017_2022.xlsx', sheet_name='2018')\n",
        "dfhom2 = pd.read_excel('gs://datasets-originais-agsw/ssp/Homicidio_2017_2022.xlsx', sheet_name='2019')\n",
        "dfhom3 = pd.read_excel('gs://datasets-originais-agsw/ssp/Homicidio_2017_2022.xlsx', sheet_name='2020')\n",
        "dfhom4 = pd.read_excel('gs://datasets-originais-agsw/ssp/Homicidio_2017_2022.xlsx', sheet_name='2021')"
      ],
      "metadata": {
        "id": "31qmHSMRskWd"
      },
      "execution_count": null,
      "outputs": []
    },
    {
      "cell_type": "code",
      "source": [
        "# Concatenando os Data Frames\n",
        "dfsp_homicidio = pd.concat([dfhom1,dfhom2,dfhom3,dfhom4])"
      ],
      "metadata": {
        "id": "ZjWDL81ZQL6M"
      },
      "execution_count": null,
      "outputs": []
    },
    {
      "cell_type": "code",
      "source": [
        "# Visualizando estrutura\n",
        "dfsp_homicidio.head(1)"
      ],
      "metadata": {
        "id": "hrWo7pByQngk",
        "colab": {
          "base_uri": "https://localhost:8080/",
          "height": 249
        },
        "outputId": "63181c84-9312-4d74-f881-e32f0d5efc94"
      },
      "execution_count": null,
      "outputs": [
        {
          "output_type": "execute_result",
          "data": {
            "text/plain": [
              "  DEPARTAMENTO_CIRCUNSCRICAO SECCIONAL_CIRCUNSCRICAO MUNICIPIO_CIRCUNSCRICAO  \\\n",
              "0                      DECAP                  1ª SEC               São Paulo   \n",
              "\n",
              "     DP_CIRCUNSCRICAO    HD  Nº DE VÍT HD  ID_DELEGACIA  MÊS ESTATISTICA  \\\n",
              "0  002 DP - Bom Retiro  1.0             1        200100                1   \n",
              "\n",
              "   ANO ESTATISTICA DATAHORA_REGISTRO_BO NUM_BO  ANO_BO MUNICIPIO_ELABORACAO  \\\n",
              "0             2018           2018-01-07     16    2018              S.PAULO   \n",
              "\n",
              "          DP_ELABORACAO                    SEC_ELABORACAO DEP_ELABORACAO  \\\n",
              "0  DHPP DIV. HOMICIDIOS  DHPP - DEP. HOM. PROTECAO PESSOA           DHPP   \n",
              "\n",
              "   DATA_FATO HORA_FATO DESC_TIPOLOCAL                         LOGRADOURO  \\\n",
              "0 2018-01-06  20:06:00    Via pública  AVENIDA PRESIDENTE CASTELO BRANCO   \n",
              "\n",
              "  NUMERO_LOGRADOURO   LATITUDE  LONGITUDE TIPO_PESSOA SEXO_PESSOA  \\\n",
              "0            6173.0 -23.523712 -46.606388      Vítima   Masculino   \n",
              "\n",
              "   IDADE_PESSOA DATA_NASCIMENTO_PESSOA  COR_PELE PROFISSAO  NATUREZA_APURADA  \n",
              "0           NaN                    NaT  Ignorada       NaN  HOMICÍDIO DOLOSO  "
            ],
            "text/html": [
              "\n",
              "  <div id=\"df-b64c7031-56b1-4ad1-b7a8-3da1db42588d\">\n",
              "    <div class=\"colab-df-container\">\n",
              "      <div>\n",
              "<style scoped>\n",
              "    .dataframe tbody tr th:only-of-type {\n",
              "        vertical-align: middle;\n",
              "    }\n",
              "\n",
              "    .dataframe tbody tr th {\n",
              "        vertical-align: top;\n",
              "    }\n",
              "\n",
              "    .dataframe thead th {\n",
              "        text-align: right;\n",
              "    }\n",
              "</style>\n",
              "<table border=\"1\" class=\"dataframe\">\n",
              "  <thead>\n",
              "    <tr style=\"text-align: right;\">\n",
              "      <th></th>\n",
              "      <th>DEPARTAMENTO_CIRCUNSCRICAO</th>\n",
              "      <th>SECCIONAL_CIRCUNSCRICAO</th>\n",
              "      <th>MUNICIPIO_CIRCUNSCRICAO</th>\n",
              "      <th>DP_CIRCUNSCRICAO</th>\n",
              "      <th>HD</th>\n",
              "      <th>Nº DE VÍT HD</th>\n",
              "      <th>ID_DELEGACIA</th>\n",
              "      <th>MÊS ESTATISTICA</th>\n",
              "      <th>ANO ESTATISTICA</th>\n",
              "      <th>DATAHORA_REGISTRO_BO</th>\n",
              "      <th>NUM_BO</th>\n",
              "      <th>ANO_BO</th>\n",
              "      <th>MUNICIPIO_ELABORACAO</th>\n",
              "      <th>DP_ELABORACAO</th>\n",
              "      <th>SEC_ELABORACAO</th>\n",
              "      <th>DEP_ELABORACAO</th>\n",
              "      <th>DATA_FATO</th>\n",
              "      <th>HORA_FATO</th>\n",
              "      <th>DESC_TIPOLOCAL</th>\n",
              "      <th>LOGRADOURO</th>\n",
              "      <th>NUMERO_LOGRADOURO</th>\n",
              "      <th>LATITUDE</th>\n",
              "      <th>LONGITUDE</th>\n",
              "      <th>TIPO_PESSOA</th>\n",
              "      <th>SEXO_PESSOA</th>\n",
              "      <th>IDADE_PESSOA</th>\n",
              "      <th>DATA_NASCIMENTO_PESSOA</th>\n",
              "      <th>COR_PELE</th>\n",
              "      <th>PROFISSAO</th>\n",
              "      <th>NATUREZA_APURADA</th>\n",
              "    </tr>\n",
              "  </thead>\n",
              "  <tbody>\n",
              "    <tr>\n",
              "      <th>0</th>\n",
              "      <td>DECAP</td>\n",
              "      <td>1ª SEC</td>\n",
              "      <td>São Paulo</td>\n",
              "      <td>002 DP - Bom Retiro</td>\n",
              "      <td>1.0</td>\n",
              "      <td>1</td>\n",
              "      <td>200100</td>\n",
              "      <td>1</td>\n",
              "      <td>2018</td>\n",
              "      <td>2018-01-07</td>\n",
              "      <td>16</td>\n",
              "      <td>2018</td>\n",
              "      <td>S.PAULO</td>\n",
              "      <td>DHPP DIV. HOMICIDIOS</td>\n",
              "      <td>DHPP - DEP. HOM. PROTECAO PESSOA</td>\n",
              "      <td>DHPP</td>\n",
              "      <td>2018-01-06</td>\n",
              "      <td>20:06:00</td>\n",
              "      <td>Via pública</td>\n",
              "      <td>AVENIDA PRESIDENTE CASTELO BRANCO</td>\n",
              "      <td>6173.0</td>\n",
              "      <td>-23.523712</td>\n",
              "      <td>-46.606388</td>\n",
              "      <td>Vítima</td>\n",
              "      <td>Masculino</td>\n",
              "      <td>NaN</td>\n",
              "      <td>NaT</td>\n",
              "      <td>Ignorada</td>\n",
              "      <td>NaN</td>\n",
              "      <td>HOMICÍDIO DOLOSO</td>\n",
              "    </tr>\n",
              "  </tbody>\n",
              "</table>\n",
              "</div>\n",
              "      <button class=\"colab-df-convert\" onclick=\"convertToInteractive('df-b64c7031-56b1-4ad1-b7a8-3da1db42588d')\"\n",
              "              title=\"Convert this dataframe to an interactive table.\"\n",
              "              style=\"display:none;\">\n",
              "        \n",
              "  <svg xmlns=\"http://www.w3.org/2000/svg\" height=\"24px\"viewBox=\"0 0 24 24\"\n",
              "       width=\"24px\">\n",
              "    <path d=\"M0 0h24v24H0V0z\" fill=\"none\"/>\n",
              "    <path d=\"M18.56 5.44l.94 2.06.94-2.06 2.06-.94-2.06-.94-.94-2.06-.94 2.06-2.06.94zm-11 1L8.5 8.5l.94-2.06 2.06-.94-2.06-.94L8.5 2.5l-.94 2.06-2.06.94zm10 10l.94 2.06.94-2.06 2.06-.94-2.06-.94-.94-2.06-.94 2.06-2.06.94z\"/><path d=\"M17.41 7.96l-1.37-1.37c-.4-.4-.92-.59-1.43-.59-.52 0-1.04.2-1.43.59L10.3 9.45l-7.72 7.72c-.78.78-.78 2.05 0 2.83L4 21.41c.39.39.9.59 1.41.59.51 0 1.02-.2 1.41-.59l7.78-7.78 2.81-2.81c.8-.78.8-2.07 0-2.86zM5.41 20L4 18.59l7.72-7.72 1.47 1.35L5.41 20z\"/>\n",
              "  </svg>\n",
              "      </button>\n",
              "      \n",
              "  <style>\n",
              "    .colab-df-container {\n",
              "      display:flex;\n",
              "      flex-wrap:wrap;\n",
              "      gap: 12px;\n",
              "    }\n",
              "\n",
              "    .colab-df-convert {\n",
              "      background-color: #E8F0FE;\n",
              "      border: none;\n",
              "      border-radius: 50%;\n",
              "      cursor: pointer;\n",
              "      display: none;\n",
              "      fill: #1967D2;\n",
              "      height: 32px;\n",
              "      padding: 0 0 0 0;\n",
              "      width: 32px;\n",
              "    }\n",
              "\n",
              "    .colab-df-convert:hover {\n",
              "      background-color: #E2EBFA;\n",
              "      box-shadow: 0px 1px 2px rgba(60, 64, 67, 0.3), 0px 1px 3px 1px rgba(60, 64, 67, 0.15);\n",
              "      fill: #174EA6;\n",
              "    }\n",
              "\n",
              "    [theme=dark] .colab-df-convert {\n",
              "      background-color: #3B4455;\n",
              "      fill: #D2E3FC;\n",
              "    }\n",
              "\n",
              "    [theme=dark] .colab-df-convert:hover {\n",
              "      background-color: #434B5C;\n",
              "      box-shadow: 0px 1px 3px 1px rgba(0, 0, 0, 0.15);\n",
              "      filter: drop-shadow(0px 1px 2px rgba(0, 0, 0, 0.3));\n",
              "      fill: #FFFFFF;\n",
              "    }\n",
              "  </style>\n",
              "\n",
              "      <script>\n",
              "        const buttonEl =\n",
              "          document.querySelector('#df-b64c7031-56b1-4ad1-b7a8-3da1db42588d button.colab-df-convert');\n",
              "        buttonEl.style.display =\n",
              "          google.colab.kernel.accessAllowed ? 'block' : 'none';\n",
              "\n",
              "        async function convertToInteractive(key) {\n",
              "          const element = document.querySelector('#df-b64c7031-56b1-4ad1-b7a8-3da1db42588d');\n",
              "          const dataTable =\n",
              "            await google.colab.kernel.invokeFunction('convertToInteractive',\n",
              "                                                     [key], {});\n",
              "          if (!dataTable) return;\n",
              "\n",
              "          const docLinkHtml = 'Like what you see? Visit the ' +\n",
              "            '<a target=\"_blank\" href=https://colab.research.google.com/notebooks/data_table.ipynb>data table notebook</a>'\n",
              "            + ' to learn more about interactive tables.';\n",
              "          element.innerHTML = '';\n",
              "          dataTable['output_type'] = 'display_data';\n",
              "          await google.colab.output.renderOutput(dataTable, element);\n",
              "          const docLink = document.createElement('div');\n",
              "          docLink.innerHTML = docLinkHtml;\n",
              "          element.appendChild(docLink);\n",
              "        }\n",
              "      </script>\n",
              "    </div>\n",
              "  </div>\n",
              "  "
            ]
          },
          "metadata": {},
          "execution_count": 7
        }
      ]
    },
    {
      "cell_type": "code",
      "source": [
        "dfsp_homicidio.columns"
      ],
      "metadata": {
        "colab": {
          "base_uri": "https://localhost:8080/"
        },
        "id": "KrXba8_Yddjq",
        "outputId": "ca27089c-34cb-42ee-edda-44543bd218c4"
      },
      "execution_count": null,
      "outputs": [
        {
          "output_type": "execute_result",
          "data": {
            "text/plain": [
              "Index(['DEPARTAMENTO_CIRCUNSCRICAO', 'SECCIONAL_CIRCUNSCRICAO',\n",
              "       'MUNICIPIO_CIRCUNSCRICAO', 'DP_CIRCUNSCRICAO ', 'HD', 'Nº DE VÍT HD',\n",
              "       'ID_DELEGACIA', 'MÊS ESTATISTICA', 'ANO ESTATISTICA',\n",
              "       'DATAHORA_REGISTRO_BO', 'NUM_BO', 'ANO_BO', 'MUNICIPIO_ELABORACAO',\n",
              "       'DP_ELABORACAO', 'SEC_ELABORACAO', 'DEP_ELABORACAO', 'DATA_FATO',\n",
              "       'HORA_FATO', 'DESC_TIPOLOCAL', 'LOGRADOURO', 'NUMERO_LOGRADOURO',\n",
              "       'LATITUDE', 'LONGITUDE', 'TIPO_PESSOA', 'SEXO_PESSOA', 'IDADE_PESSOA',\n",
              "       'DATA_NASCIMENTO_PESSOA', 'COR_PELE', 'PROFISSAO', 'NATUREZA_APURADA'],\n",
              "      dtype='object')"
            ]
          },
          "metadata": {},
          "execution_count": 36
        }
      ]
    },
    {
      "cell_type": "code",
      "source": [
        "# Realizando a troca de algumas colunas\n",
        "dfsp_homicidio.rename(columns={'DP_CIRCUNSCRICAO ':'DP_CIRCUNSCRICAO'}, inplace=True)"
      ],
      "metadata": {
        "id": "LnE8-clKdciT"
      },
      "execution_count": null,
      "outputs": []
    },
    {
      "cell_type": "code",
      "source": [
        "# Verificando a quantidade de ocorrências por ano\n",
        "dfsp_homicidio.groupby(['NATUREZA_APURADA', 'ANO ESTATISTICA'],dropna=False).size().sort_values(ascending=False)"
      ],
      "metadata": {
        "colab": {
          "base_uri": "https://localhost:8080/"
        },
        "id": "z6jKAtp3VIZR",
        "outputId": "af1f8851-4cf0-418a-c245-10cc246a5c0f"
      },
      "execution_count": null,
      "outputs": [
        {
          "output_type": "execute_result",
          "data": {
            "text/plain": [
              "NATUREZA_APURADA  ANO ESTATISTICA\n",
              "HOMICÍDIO DOLOSO  2018               3106\n",
              "                  2020               3038\n",
              "                  2019               2906\n",
              "                  2021               2847\n",
              "dtype: int64"
            ]
          },
          "metadata": {},
          "execution_count": 8
        }
      ]
    },
    {
      "cell_type": "markdown",
      "source": [
        "### ☑️ **Dados de Latrocinio**"
      ],
      "metadata": {
        "id": "Jr6n_mL0k8Xk"
      }
    },
    {
      "cell_type": "code",
      "source": [
        "# Trazendo cada aba da planilha para o dataset\n",
        "dfla1 = pd.read_excel('gs://datasets-originais-agsw/ssp/Latrocinio_2018_2022.xlsx', sheet_name='2018')\n",
        "dfla2 = pd.read_excel('gs://datasets-originais-agsw/ssp/Latrocinio_2018_2022.xlsx', sheet_name='2019')\n",
        "dfla3 = pd.read_excel('gs://datasets-originais-agsw/ssp/Latrocinio_2018_2022.xlsx', sheet_name='2020')\n",
        "dfla4 = pd.read_excel('gs://datasets-originais-agsw/ssp/Latrocinio_2018_2022.xlsx', sheet_name='2021')"
      ],
      "metadata": {
        "id": "mB7EL8qqihHG",
        "colab": {
          "base_uri": "https://localhost:8080/"
        },
        "outputId": "846dbf94-0c83-4e1e-fc02-bffb966166ef"
      },
      "execution_count": null,
      "outputs": [
        {
          "output_type": "stream",
          "name": "stderr",
          "text": [
            "/usr/local/lib/python3.8/dist-packages/openpyxl/worksheet/_reader.py:312: UserWarning: Data Validation extension is not supported and will be removed\n",
            "  warn(msg)\n"
          ]
        }
      ]
    },
    {
      "cell_type": "code",
      "source": [
        "# Concatenando os Data Frames\n",
        "dfsp_latrocinio = pd.concat([dfla1,dfla2,dfla3,dfla4])"
      ],
      "metadata": {
        "id": "FgnUMQmjihHH"
      },
      "execution_count": null,
      "outputs": []
    },
    {
      "cell_type": "code",
      "source": [
        "# Visualizando estrutura\n",
        "dfsp_latrocinio.head(1)"
      ],
      "metadata": {
        "id": "96tYbANiihHI",
        "colab": {
          "base_uri": "https://localhost:8080/",
          "height": 249
        },
        "outputId": "115332bf-5c9d-414b-f74d-5c69979c841a"
      },
      "execution_count": null,
      "outputs": [
        {
          "output_type": "execute_result",
          "data": {
            "text/plain": [
              "  DEPARTAMENTO_CIRCUNSCRICAO SECCIONAL_CIRCUNSCRICAO MUNICIPIO_CIRCUNSCRICAO  \\\n",
              "0                      DECAP                  1ª SEC               São Paulo   \n",
              "\n",
              "    DP_CIRCUNSCRICAO   LATRO  Nº DE VIT EM LATRO  ID_DELEGACIA  \\\n",
              "0  005 DP - Aclimação    1.0                   1         10342   \n",
              "\n",
              "   MÊS ESTATISTICA  ANO ESTATISTICA DATAHORA_REGISTRO_BO  NUM_BO  ANO_BO  \\\n",
              "0             2018                1           2018-01-21     550    2018   \n",
              "\n",
              "             MUNICIPIO_ELABORACAO     DP_ELABORACAO     SEC_ELABORACAO  \\\n",
              "0  S.PAULO                         78º D.P. JARDINS  DEL.SEC.1º CENTRO   \n",
              "\n",
              "  DEP_ELABORACAO  DATA_FATO HORA_FATO DESC_TIPOLOCAL  \\\n",
              "0          DECAP 2018-01-21  00:02:00    Via pública   \n",
              "\n",
              "                        LOGRADOURO  NUMERO_LOGRADOURO   LATITUDE  LONGITUDE  \\\n",
              "0  AVENIDA BRIGADEIRO LUIS ANTONIO             1572.0 -23.562435 -46.645048   \n",
              "\n",
              "  TIPO_PESSOA SEXO_PESSOA  IDADE_PESSOA DATA_NASCIMENTO_PESSOA COR_PELE  \\\n",
              "0      Vítima   Masculino          59.0             1958-02-18   Branca   \n",
              "\n",
              "    PROFISSAO NATUREZA_APURADA  \n",
              "0  JORNALISTA      LATROCÍNIO   "
            ],
            "text/html": [
              "\n",
              "  <div id=\"df-cf57fa0a-f888-4667-80f4-ca357fc76c20\">\n",
              "    <div class=\"colab-df-container\">\n",
              "      <div>\n",
              "<style scoped>\n",
              "    .dataframe tbody tr th:only-of-type {\n",
              "        vertical-align: middle;\n",
              "    }\n",
              "\n",
              "    .dataframe tbody tr th {\n",
              "        vertical-align: top;\n",
              "    }\n",
              "\n",
              "    .dataframe thead th {\n",
              "        text-align: right;\n",
              "    }\n",
              "</style>\n",
              "<table border=\"1\" class=\"dataframe\">\n",
              "  <thead>\n",
              "    <tr style=\"text-align: right;\">\n",
              "      <th></th>\n",
              "      <th>DEPARTAMENTO_CIRCUNSCRICAO</th>\n",
              "      <th>SECCIONAL_CIRCUNSCRICAO</th>\n",
              "      <th>MUNICIPIO_CIRCUNSCRICAO</th>\n",
              "      <th>DP_CIRCUNSCRICAO</th>\n",
              "      <th>LATRO</th>\n",
              "      <th>Nº DE VIT EM LATRO</th>\n",
              "      <th>ID_DELEGACIA</th>\n",
              "      <th>MÊS ESTATISTICA</th>\n",
              "      <th>ANO ESTATISTICA</th>\n",
              "      <th>DATAHORA_REGISTRO_BO</th>\n",
              "      <th>NUM_BO</th>\n",
              "      <th>ANO_BO</th>\n",
              "      <th>MUNICIPIO_ELABORACAO</th>\n",
              "      <th>DP_ELABORACAO</th>\n",
              "      <th>SEC_ELABORACAO</th>\n",
              "      <th>DEP_ELABORACAO</th>\n",
              "      <th>DATA_FATO</th>\n",
              "      <th>HORA_FATO</th>\n",
              "      <th>DESC_TIPOLOCAL</th>\n",
              "      <th>LOGRADOURO</th>\n",
              "      <th>NUMERO_LOGRADOURO</th>\n",
              "      <th>LATITUDE</th>\n",
              "      <th>LONGITUDE</th>\n",
              "      <th>TIPO_PESSOA</th>\n",
              "      <th>SEXO_PESSOA</th>\n",
              "      <th>IDADE_PESSOA</th>\n",
              "      <th>DATA_NASCIMENTO_PESSOA</th>\n",
              "      <th>COR_PELE</th>\n",
              "      <th>PROFISSAO</th>\n",
              "      <th>NATUREZA_APURADA</th>\n",
              "    </tr>\n",
              "  </thead>\n",
              "  <tbody>\n",
              "    <tr>\n",
              "      <th>0</th>\n",
              "      <td>DECAP</td>\n",
              "      <td>1ª SEC</td>\n",
              "      <td>São Paulo</td>\n",
              "      <td>005 DP - Aclimação</td>\n",
              "      <td>1.0</td>\n",
              "      <td>1</td>\n",
              "      <td>10342</td>\n",
              "      <td>2018</td>\n",
              "      <td>1</td>\n",
              "      <td>2018-01-21</td>\n",
              "      <td>550</td>\n",
              "      <td>2018</td>\n",
              "      <td>S.PAULO</td>\n",
              "      <td>78º D.P. JARDINS</td>\n",
              "      <td>DEL.SEC.1º CENTRO</td>\n",
              "      <td>DECAP</td>\n",
              "      <td>2018-01-21</td>\n",
              "      <td>00:02:00</td>\n",
              "      <td>Via pública</td>\n",
              "      <td>AVENIDA BRIGADEIRO LUIS ANTONIO</td>\n",
              "      <td>1572.0</td>\n",
              "      <td>-23.562435</td>\n",
              "      <td>-46.645048</td>\n",
              "      <td>Vítima</td>\n",
              "      <td>Masculino</td>\n",
              "      <td>59.0</td>\n",
              "      <td>1958-02-18</td>\n",
              "      <td>Branca</td>\n",
              "      <td>JORNALISTA</td>\n",
              "      <td>LATROCÍNIO</td>\n",
              "    </tr>\n",
              "  </tbody>\n",
              "</table>\n",
              "</div>\n",
              "      <button class=\"colab-df-convert\" onclick=\"convertToInteractive('df-cf57fa0a-f888-4667-80f4-ca357fc76c20')\"\n",
              "              title=\"Convert this dataframe to an interactive table.\"\n",
              "              style=\"display:none;\">\n",
              "        \n",
              "  <svg xmlns=\"http://www.w3.org/2000/svg\" height=\"24px\"viewBox=\"0 0 24 24\"\n",
              "       width=\"24px\">\n",
              "    <path d=\"M0 0h24v24H0V0z\" fill=\"none\"/>\n",
              "    <path d=\"M18.56 5.44l.94 2.06.94-2.06 2.06-.94-2.06-.94-.94-2.06-.94 2.06-2.06.94zm-11 1L8.5 8.5l.94-2.06 2.06-.94-2.06-.94L8.5 2.5l-.94 2.06-2.06.94zm10 10l.94 2.06.94-2.06 2.06-.94-2.06-.94-.94-2.06-.94 2.06-2.06.94z\"/><path d=\"M17.41 7.96l-1.37-1.37c-.4-.4-.92-.59-1.43-.59-.52 0-1.04.2-1.43.59L10.3 9.45l-7.72 7.72c-.78.78-.78 2.05 0 2.83L4 21.41c.39.39.9.59 1.41.59.51 0 1.02-.2 1.41-.59l7.78-7.78 2.81-2.81c.8-.78.8-2.07 0-2.86zM5.41 20L4 18.59l7.72-7.72 1.47 1.35L5.41 20z\"/>\n",
              "  </svg>\n",
              "      </button>\n",
              "      \n",
              "  <style>\n",
              "    .colab-df-container {\n",
              "      display:flex;\n",
              "      flex-wrap:wrap;\n",
              "      gap: 12px;\n",
              "    }\n",
              "\n",
              "    .colab-df-convert {\n",
              "      background-color: #E8F0FE;\n",
              "      border: none;\n",
              "      border-radius: 50%;\n",
              "      cursor: pointer;\n",
              "      display: none;\n",
              "      fill: #1967D2;\n",
              "      height: 32px;\n",
              "      padding: 0 0 0 0;\n",
              "      width: 32px;\n",
              "    }\n",
              "\n",
              "    .colab-df-convert:hover {\n",
              "      background-color: #E2EBFA;\n",
              "      box-shadow: 0px 1px 2px rgba(60, 64, 67, 0.3), 0px 1px 3px 1px rgba(60, 64, 67, 0.15);\n",
              "      fill: #174EA6;\n",
              "    }\n",
              "\n",
              "    [theme=dark] .colab-df-convert {\n",
              "      background-color: #3B4455;\n",
              "      fill: #D2E3FC;\n",
              "    }\n",
              "\n",
              "    [theme=dark] .colab-df-convert:hover {\n",
              "      background-color: #434B5C;\n",
              "      box-shadow: 0px 1px 3px 1px rgba(0, 0, 0, 0.15);\n",
              "      filter: drop-shadow(0px 1px 2px rgba(0, 0, 0, 0.3));\n",
              "      fill: #FFFFFF;\n",
              "    }\n",
              "  </style>\n",
              "\n",
              "      <script>\n",
              "        const buttonEl =\n",
              "          document.querySelector('#df-cf57fa0a-f888-4667-80f4-ca357fc76c20 button.colab-df-convert');\n",
              "        buttonEl.style.display =\n",
              "          google.colab.kernel.accessAllowed ? 'block' : 'none';\n",
              "\n",
              "        async function convertToInteractive(key) {\n",
              "          const element = document.querySelector('#df-cf57fa0a-f888-4667-80f4-ca357fc76c20');\n",
              "          const dataTable =\n",
              "            await google.colab.kernel.invokeFunction('convertToInteractive',\n",
              "                                                     [key], {});\n",
              "          if (!dataTable) return;\n",
              "\n",
              "          const docLinkHtml = 'Like what you see? Visit the ' +\n",
              "            '<a target=\"_blank\" href=https://colab.research.google.com/notebooks/data_table.ipynb>data table notebook</a>'\n",
              "            + ' to learn more about interactive tables.';\n",
              "          element.innerHTML = '';\n",
              "          dataTable['output_type'] = 'display_data';\n",
              "          await google.colab.output.renderOutput(dataTable, element);\n",
              "          const docLink = document.createElement('div');\n",
              "          docLink.innerHTML = docLinkHtml;\n",
              "          element.appendChild(docLink);\n",
              "        }\n",
              "      </script>\n",
              "    </div>\n",
              "  </div>\n",
              "  "
            ]
          },
          "metadata": {},
          "execution_count": 11
        }
      ]
    },
    {
      "cell_type": "code",
      "source": [
        "dfsp_latrocinio.columns"
      ],
      "metadata": {
        "colab": {
          "base_uri": "https://localhost:8080/"
        },
        "outputId": "e8bec60b-741a-4bfc-a379-d451defbfd8a",
        "id": "nyE5F96Beiz_"
      },
      "execution_count": null,
      "outputs": [
        {
          "output_type": "execute_result",
          "data": {
            "text/plain": [
              "Index(['DEPARTAMENTO_CIRCUNSCRICAO', 'SECCIONAL_CIRCUNSCRICAO',\n",
              "       'MUNICIPIO_CIRCUNSCRICAO', 'DP_CIRCUNSCRICAO ', 'LATRO',\n",
              "       'Nº DE VIT EM LATRO', 'ID_DELEGACIA', 'MÊS ESTATISTICA',\n",
              "       'ANO ESTATISTICA', 'DATAHORA_REGISTRO_BO', 'NUM_BO', 'ANO_BO',\n",
              "       'MUNICIPIO_ELABORACAO', 'DP_ELABORACAO', 'SEC_ELABORACAO',\n",
              "       'DEP_ELABORACAO', 'DATA_FATO', 'HORA_FATO', 'DESC_TIPOLOCAL',\n",
              "       'LOGRADOURO', 'NUMERO_LOGRADOURO', 'LATITUDE', 'LONGITUDE',\n",
              "       'TIPO_PESSOA', 'SEXO_PESSOA', 'IDADE_PESSOA', 'DATA_NASCIMENTO_PESSOA',\n",
              "       'COR_PELE', 'PROFISSAO', 'NATUREZA_APURADA'],\n",
              "      dtype='object')"
            ]
          },
          "metadata": {},
          "execution_count": 45
        }
      ]
    },
    {
      "cell_type": "code",
      "source": [
        "# Realizando a troca de algumas colunas\n",
        "dfsp_latrocinio.rename(columns={'DP_CIRCUNSCRICAO ':'DP_CIRCUNSCRICAO'}, inplace=True)"
      ],
      "metadata": {
        "id": "9-2rXsrfei0A"
      },
      "execution_count": null,
      "outputs": []
    },
    {
      "cell_type": "code",
      "source": [
        "# Realizando a troca de algumas colunas\n",
        "dfsp_latrocinio.rename(columns={'MÊS ESTATISTICA': 'ANO ESTATISTICA', 'ANO ESTATISTICA': 'MÊS ESTATISTICA' }, inplace=True)"
      ],
      "metadata": {
        "id": "jow1DRFsMkYO"
      },
      "execution_count": null,
      "outputs": []
    },
    {
      "cell_type": "code",
      "source": [
        "# Visualizando colunas\n",
        "dfsp_latrocinio.columns"
      ],
      "metadata": {
        "colab": {
          "base_uri": "https://localhost:8080/"
        },
        "id": "I1zk5jdcNk7V",
        "outputId": "9d5b0004-7ed4-41f4-8b66-ea108e906943"
      },
      "execution_count": null,
      "outputs": [
        {
          "output_type": "execute_result",
          "data": {
            "text/plain": [
              "Index(['DEPARTAMENTO_CIRCUNSCRICAO', 'SECCIONAL_CIRCUNSCRICAO',\n",
              "       'MUNICIPIO_CIRCUNSCRICAO', 'DP_CIRCUNSCRICAO', 'LATRO',\n",
              "       'Nº DE VIT EM LATRO', 'ID_DELEGACIA', 'ANO ESTATISTICA',\n",
              "       'MÊS ESTATISTICA', 'DATAHORA_REGISTRO_BO', 'NUM_BO', 'ANO_BO',\n",
              "       'MUNICIPIO_ELABORACAO', 'DP_ELABORACAO', 'SEC_ELABORACAO',\n",
              "       'DEP_ELABORACAO', 'DATA_FATO', 'HORA_FATO', 'DESC_TIPOLOCAL',\n",
              "       'LOGRADOURO', 'NUMERO_LOGRADOURO', 'LATITUDE', 'LONGITUDE',\n",
              "       'TIPO_PESSOA', 'SEXO_PESSOA', 'IDADE_PESSOA', 'DATA_NASCIMENTO_PESSOA',\n",
              "       'COR_PELE', 'PROFISSAO', 'NATUREZA_APURADA'],\n",
              "      dtype='object')"
            ]
          },
          "metadata": {},
          "execution_count": 48
        }
      ]
    },
    {
      "cell_type": "code",
      "source": [
        "# Reorganizando Data Frame\n",
        "dfsp_latrocinio = dfsp_latrocinio[['DEPARTAMENTO_CIRCUNSCRICAO', 'SECCIONAL_CIRCUNSCRICAO',\n",
        "       'MUNICIPIO_CIRCUNSCRICAO', 'DP_CIRCUNSCRICAO', 'LATRO',\n",
        "       'Nº DE VIT EM LATRO', 'ID_DELEGACIA', 'MÊS ESTATISTICA','ANO ESTATISTICA',\n",
        "        'DATAHORA_REGISTRO_BO', 'NUM_BO', 'ANO_BO',\n",
        "       'MUNICIPIO_ELABORACAO', 'DP_ELABORACAO', 'SEC_ELABORACAO',\n",
        "       'DEP_ELABORACAO', 'DATA_FATO', 'HORA_FATO', 'DESC_TIPOLOCAL',\n",
        "       'LOGRADOURO', 'NUMERO_LOGRADOURO', 'LATITUDE', 'LONGITUDE',\n",
        "       'TIPO_PESSOA', 'SEXO_PESSOA', 'IDADE_PESSOA', 'DATA_NASCIMENTO_PESSOA',\n",
        "       'COR_PELE', 'PROFISSAO', 'NATUREZA_APURADA']]"
      ],
      "metadata": {
        "id": "vG-GYCjWNyjr"
      },
      "execution_count": null,
      "outputs": []
    },
    {
      "cell_type": "code",
      "source": [
        "# Visualizando estrutura\n",
        "dfsp_latrocinio.head(1)"
      ],
      "metadata": {
        "colab": {
          "base_uri": "https://localhost:8080/",
          "height": 249
        },
        "id": "mM2fYSqRORIG",
        "outputId": "88fe4b6a-6f5a-4dbd-bfaf-be6f6b0e1a25"
      },
      "execution_count": null,
      "outputs": [
        {
          "output_type": "execute_result",
          "data": {
            "text/plain": [
              "  DEPARTAMENTO_CIRCUNSCRICAO SECCIONAL_CIRCUNSCRICAO MUNICIPIO_CIRCUNSCRICAO  \\\n",
              "0                      DECAP                  1ª SEC               São Paulo   \n",
              "\n",
              "    DP_CIRCUNSCRICAO   LATRO  Nº DE VIT EM LATRO  ID_DELEGACIA  \\\n",
              "0  005 DP - Aclimação    1.0                   1         10342   \n",
              "\n",
              "   MÊS ESTATISTICA  ANO ESTATISTICA DATAHORA_REGISTRO_BO  NUM_BO  ANO_BO  \\\n",
              "0                1             2018           2018-01-21     550    2018   \n",
              "\n",
              "             MUNICIPIO_ELABORACAO     DP_ELABORACAO     SEC_ELABORACAO  \\\n",
              "0  S.PAULO                         78º D.P. JARDINS  DEL.SEC.1º CENTRO   \n",
              "\n",
              "  DEP_ELABORACAO  DATA_FATO HORA_FATO DESC_TIPOLOCAL  \\\n",
              "0          DECAP 2018-01-21  00:02:00    Via pública   \n",
              "\n",
              "                        LOGRADOURO  NUMERO_LOGRADOURO   LATITUDE  LONGITUDE  \\\n",
              "0  AVENIDA BRIGADEIRO LUIS ANTONIO             1572.0 -23.562435 -46.645048   \n",
              "\n",
              "  TIPO_PESSOA SEXO_PESSOA  IDADE_PESSOA DATA_NASCIMENTO_PESSOA COR_PELE  \\\n",
              "0      Vítima   Masculino          59.0             1958-02-18   Branca   \n",
              "\n",
              "    PROFISSAO NATUREZA_APURADA  \n",
              "0  JORNALISTA      LATROCÍNIO   "
            ],
            "text/html": [
              "\n",
              "  <div id=\"df-5b15b5d5-02d2-41f8-b898-bdcd042b9999\">\n",
              "    <div class=\"colab-df-container\">\n",
              "      <div>\n",
              "<style scoped>\n",
              "    .dataframe tbody tr th:only-of-type {\n",
              "        vertical-align: middle;\n",
              "    }\n",
              "\n",
              "    .dataframe tbody tr th {\n",
              "        vertical-align: top;\n",
              "    }\n",
              "\n",
              "    .dataframe thead th {\n",
              "        text-align: right;\n",
              "    }\n",
              "</style>\n",
              "<table border=\"1\" class=\"dataframe\">\n",
              "  <thead>\n",
              "    <tr style=\"text-align: right;\">\n",
              "      <th></th>\n",
              "      <th>DEPARTAMENTO_CIRCUNSCRICAO</th>\n",
              "      <th>SECCIONAL_CIRCUNSCRICAO</th>\n",
              "      <th>MUNICIPIO_CIRCUNSCRICAO</th>\n",
              "      <th>DP_CIRCUNSCRICAO</th>\n",
              "      <th>LATRO</th>\n",
              "      <th>Nº DE VIT EM LATRO</th>\n",
              "      <th>ID_DELEGACIA</th>\n",
              "      <th>MÊS ESTATISTICA</th>\n",
              "      <th>ANO ESTATISTICA</th>\n",
              "      <th>DATAHORA_REGISTRO_BO</th>\n",
              "      <th>NUM_BO</th>\n",
              "      <th>ANO_BO</th>\n",
              "      <th>MUNICIPIO_ELABORACAO</th>\n",
              "      <th>DP_ELABORACAO</th>\n",
              "      <th>SEC_ELABORACAO</th>\n",
              "      <th>DEP_ELABORACAO</th>\n",
              "      <th>DATA_FATO</th>\n",
              "      <th>HORA_FATO</th>\n",
              "      <th>DESC_TIPOLOCAL</th>\n",
              "      <th>LOGRADOURO</th>\n",
              "      <th>NUMERO_LOGRADOURO</th>\n",
              "      <th>LATITUDE</th>\n",
              "      <th>LONGITUDE</th>\n",
              "      <th>TIPO_PESSOA</th>\n",
              "      <th>SEXO_PESSOA</th>\n",
              "      <th>IDADE_PESSOA</th>\n",
              "      <th>DATA_NASCIMENTO_PESSOA</th>\n",
              "      <th>COR_PELE</th>\n",
              "      <th>PROFISSAO</th>\n",
              "      <th>NATUREZA_APURADA</th>\n",
              "    </tr>\n",
              "  </thead>\n",
              "  <tbody>\n",
              "    <tr>\n",
              "      <th>0</th>\n",
              "      <td>DECAP</td>\n",
              "      <td>1ª SEC</td>\n",
              "      <td>São Paulo</td>\n",
              "      <td>005 DP - Aclimação</td>\n",
              "      <td>1.0</td>\n",
              "      <td>1</td>\n",
              "      <td>10342</td>\n",
              "      <td>1</td>\n",
              "      <td>2018</td>\n",
              "      <td>2018-01-21</td>\n",
              "      <td>550</td>\n",
              "      <td>2018</td>\n",
              "      <td>S.PAULO</td>\n",
              "      <td>78º D.P. JARDINS</td>\n",
              "      <td>DEL.SEC.1º CENTRO</td>\n",
              "      <td>DECAP</td>\n",
              "      <td>2018-01-21</td>\n",
              "      <td>00:02:00</td>\n",
              "      <td>Via pública</td>\n",
              "      <td>AVENIDA BRIGADEIRO LUIS ANTONIO</td>\n",
              "      <td>1572.0</td>\n",
              "      <td>-23.562435</td>\n",
              "      <td>-46.645048</td>\n",
              "      <td>Vítima</td>\n",
              "      <td>Masculino</td>\n",
              "      <td>59.0</td>\n",
              "      <td>1958-02-18</td>\n",
              "      <td>Branca</td>\n",
              "      <td>JORNALISTA</td>\n",
              "      <td>LATROCÍNIO</td>\n",
              "    </tr>\n",
              "  </tbody>\n",
              "</table>\n",
              "</div>\n",
              "      <button class=\"colab-df-convert\" onclick=\"convertToInteractive('df-5b15b5d5-02d2-41f8-b898-bdcd042b9999')\"\n",
              "              title=\"Convert this dataframe to an interactive table.\"\n",
              "              style=\"display:none;\">\n",
              "        \n",
              "  <svg xmlns=\"http://www.w3.org/2000/svg\" height=\"24px\"viewBox=\"0 0 24 24\"\n",
              "       width=\"24px\">\n",
              "    <path d=\"M0 0h24v24H0V0z\" fill=\"none\"/>\n",
              "    <path d=\"M18.56 5.44l.94 2.06.94-2.06 2.06-.94-2.06-.94-.94-2.06-.94 2.06-2.06.94zm-11 1L8.5 8.5l.94-2.06 2.06-.94-2.06-.94L8.5 2.5l-.94 2.06-2.06.94zm10 10l.94 2.06.94-2.06 2.06-.94-2.06-.94-.94-2.06-.94 2.06-2.06.94z\"/><path d=\"M17.41 7.96l-1.37-1.37c-.4-.4-.92-.59-1.43-.59-.52 0-1.04.2-1.43.59L10.3 9.45l-7.72 7.72c-.78.78-.78 2.05 0 2.83L4 21.41c.39.39.9.59 1.41.59.51 0 1.02-.2 1.41-.59l7.78-7.78 2.81-2.81c.8-.78.8-2.07 0-2.86zM5.41 20L4 18.59l7.72-7.72 1.47 1.35L5.41 20z\"/>\n",
              "  </svg>\n",
              "      </button>\n",
              "      \n",
              "  <style>\n",
              "    .colab-df-container {\n",
              "      display:flex;\n",
              "      flex-wrap:wrap;\n",
              "      gap: 12px;\n",
              "    }\n",
              "\n",
              "    .colab-df-convert {\n",
              "      background-color: #E8F0FE;\n",
              "      border: none;\n",
              "      border-radius: 50%;\n",
              "      cursor: pointer;\n",
              "      display: none;\n",
              "      fill: #1967D2;\n",
              "      height: 32px;\n",
              "      padding: 0 0 0 0;\n",
              "      width: 32px;\n",
              "    }\n",
              "\n",
              "    .colab-df-convert:hover {\n",
              "      background-color: #E2EBFA;\n",
              "      box-shadow: 0px 1px 2px rgba(60, 64, 67, 0.3), 0px 1px 3px 1px rgba(60, 64, 67, 0.15);\n",
              "      fill: #174EA6;\n",
              "    }\n",
              "\n",
              "    [theme=dark] .colab-df-convert {\n",
              "      background-color: #3B4455;\n",
              "      fill: #D2E3FC;\n",
              "    }\n",
              "\n",
              "    [theme=dark] .colab-df-convert:hover {\n",
              "      background-color: #434B5C;\n",
              "      box-shadow: 0px 1px 3px 1px rgba(0, 0, 0, 0.15);\n",
              "      filter: drop-shadow(0px 1px 2px rgba(0, 0, 0, 0.3));\n",
              "      fill: #FFFFFF;\n",
              "    }\n",
              "  </style>\n",
              "\n",
              "      <script>\n",
              "        const buttonEl =\n",
              "          document.querySelector('#df-5b15b5d5-02d2-41f8-b898-bdcd042b9999 button.colab-df-convert');\n",
              "        buttonEl.style.display =\n",
              "          google.colab.kernel.accessAllowed ? 'block' : 'none';\n",
              "\n",
              "        async function convertToInteractive(key) {\n",
              "          const element = document.querySelector('#df-5b15b5d5-02d2-41f8-b898-bdcd042b9999');\n",
              "          const dataTable =\n",
              "            await google.colab.kernel.invokeFunction('convertToInteractive',\n",
              "                                                     [key], {});\n",
              "          if (!dataTable) return;\n",
              "\n",
              "          const docLinkHtml = 'Like what you see? Visit the ' +\n",
              "            '<a target=\"_blank\" href=https://colab.research.google.com/notebooks/data_table.ipynb>data table notebook</a>'\n",
              "            + ' to learn more about interactive tables.';\n",
              "          element.innerHTML = '';\n",
              "          dataTable['output_type'] = 'display_data';\n",
              "          await google.colab.output.renderOutput(dataTable, element);\n",
              "          const docLink = document.createElement('div');\n",
              "          docLink.innerHTML = docLinkHtml;\n",
              "          element.appendChild(docLink);\n",
              "        }\n",
              "      </script>\n",
              "    </div>\n",
              "  </div>\n",
              "  "
            ]
          },
          "metadata": {},
          "execution_count": 15
        }
      ]
    },
    {
      "cell_type": "code",
      "source": [
        "# Verificando a quantidade de ocorrências por ano\n",
        "dfsp_latrocinio.groupby(['NATUREZA_APURADA', 'ANO ESTATISTICA'],dropna=False).size().sort_values(ascending=False)"
      ],
      "metadata": {
        "colab": {
          "base_uri": "https://localhost:8080/"
        },
        "id": "l9gmQOexMdUw",
        "outputId": "14b27fbb-bd78-4ba6-8868-1763f734fb4f"
      },
      "execution_count": null,
      "outputs": [
        {
          "output_type": "execute_result",
          "data": {
            "text/plain": [
              "NATUREZA_APURADA  ANO ESTATISTICA\n",
              "LATROCÍNIO        2018               278\n",
              "                  2019               199\n",
              "                  2020               183\n",
              "                  2021               173\n",
              "dtype: int64"
            ]
          },
          "metadata": {},
          "execution_count": 16
        }
      ]
    },
    {
      "cell_type": "markdown",
      "source": [
        "### ☑️ **Dados de Lesão Corporal seguida de Morte**"
      ],
      "metadata": {
        "id": "HqzdYpTy9wOg"
      }
    },
    {
      "cell_type": "code",
      "source": [
        "# Trazendo cada aba da planilha para o dataset\n",
        "dfle1 = pd.read_excel('gs://datasets-originais-agsw/ssp/LCSM_2016_2022.xlsx', sheet_name='2017')\n",
        "dfle2 = pd.read_excel('gs://datasets-originais-agsw/ssp/LCSM_2016_2022.xlsx', sheet_name='2018')\n",
        "dfle3 = pd.read_excel('gs://datasets-originais-agsw/ssp/LCSM_2016_2022.xlsx', sheet_name='2019')\n",
        "dfle4 = pd.read_excel('gs://datasets-originais-agsw/ssp/LCSM_2016_2022.xlsx', sheet_name='2020')\n",
        "dfle5 = pd.read_excel('gs://datasets-originais-agsw/ssp/LCSM_2016_2022.xlsx', sheet_name='2021')"
      ],
      "metadata": {
        "id": "gX16zXLU9wOg"
      },
      "execution_count": null,
      "outputs": []
    },
    {
      "cell_type": "code",
      "source": [
        "# Concatenando os Data Frames\n",
        "dfsp_lesao = pd.concat([dfle1,dfle2,dfle3,dfle4, dfle5])"
      ],
      "metadata": {
        "id": "ItyEeffo9wOh"
      },
      "execution_count": null,
      "outputs": []
    },
    {
      "cell_type": "code",
      "source": [
        "dfsp_lesao.columns"
      ],
      "metadata": {
        "colab": {
          "base_uri": "https://localhost:8080/"
        },
        "outputId": "dcb1a39b-6748-40b0-db1e-2550b19a0981",
        "id": "WGNv1CZ5eNiO"
      },
      "execution_count": null,
      "outputs": [
        {
          "output_type": "execute_result",
          "data": {
            "text/plain": [
              "Index(['DEPARTAMENTO_CIRCUNSCRICAO', 'SECCIONAL_CIRCUNSCRICAO',\n",
              "       'MUNICIPIO_CIRCUNSCRICAO', 'DP_CIRCUNSCRICAO', 'LCSM', 'Unnamed: 5',\n",
              "       'ID_DELEGACIA', 'MÊS ESTATISTICA', 'ANO ESTATISTICA',\n",
              "       'DATAHORA_REGISTRO_BO', 'NUM_BO', 'ANO_BO', 'MUNICIPIO_ELABORACAO',\n",
              "       'DP_ELABORACAO', 'SEC_ELABORACAO', 'DEP_ELABORACAO', 'DATA_FATO',\n",
              "       'HORA_FATO', 'DESC_TIPOLOCAL', 'LOGRADOURO', 'NUMERO_LOGRADOURO',\n",
              "       'LATITUDE', 'LONGITUDE', 'TIPO_PESSOA', 'SEXO_PESSOA', 'IDADE_PESSOA',\n",
              "       'DATA_NASCIMENTO_PESSOA', 'COR_PELE', 'PROFISSAO', 'NATUREZA_APURADA'],\n",
              "      dtype='object')"
            ]
          },
          "metadata": {},
          "execution_count": 41
        }
      ]
    },
    {
      "cell_type": "code",
      "source": [
        "# Realizando a troca de algumas colunas\n",
        "dfsp_lesao.rename(columns={'DP_CIRCUNSCRICAO ':'DP_CIRCUNSCRICAO'}, inplace=True)"
      ],
      "metadata": {
        "id": "8JOMDYAKeNiP"
      },
      "execution_count": null,
      "outputs": []
    },
    {
      "cell_type": "code",
      "source": [
        "# Visualizando estrutura\n",
        "dfsp_lesao.head(1)"
      ],
      "metadata": {
        "colab": {
          "base_uri": "https://localhost:8080/",
          "height": 214
        },
        "id": "HltYO5cvOrK2",
        "outputId": "066c6a8d-ad8b-4fcd-ed67-49c2a767f0e1"
      },
      "execution_count": null,
      "outputs": [
        {
          "output_type": "execute_result",
          "data": {
            "text/plain": [
              "  DEPARTAMENTO_CIRCUNSCRICAO SECCIONAL_CIRCUNSCRICAO MUNICIPIO_CIRCUNSCRICAO  \\\n",
              "0                      DECAP                  5ª SEC               São Paulo   \n",
              "\n",
              "       DP_CIRCUNSCRICAO  LCSM  Unnamed: 5 ID_DELEGACIA  MÊS ESTATISTICA  \\\n",
              "0  056 DP - Vila Alpina     1         NaN        10310                1   \n",
              "\n",
              "   ANO ESTATISTICA DATAHORA_REGISTRO_BO NUM_BO ANO_BO MUNICIPIO_ELABORACAO  \\\n",
              "0             2017  2017-01-05 00:00:00     74   2017              S.PAULO   \n",
              "\n",
              "          DP_ELABORACAO    SEC_ELABORACAO DEP_ELABORACAO            DATA_FATO  \\\n",
              "0  56º D.P. VILA ALPINA  DEL.SEC.5º LESTE          DECAP  2017-01-05 00:00:00   \n",
              "\n",
              "  HORA_FATO DESC_TIPOLOCAL                 LOGRADOURO NUMERO_LOGRADOURO  \\\n",
              "0  08:10:00          Saúde  AVENIDA FRANCISCO FALCONI            1501.0   \n",
              "\n",
              "  LATITUDE LONGITUDE TIPO_PESSOA SEXO_PESSOA IDADE_PESSOA  \\\n",
              "0      NaN       NaN      Vítima    Feminino         32.0   \n",
              "\n",
              "  DATA_NASCIMENTO_PESSOA COR_PELE    PROFISSAO  \\\n",
              "0    1984-12-06 00:00:00    Parda  VENDEDOR(A)   \n",
              "\n",
              "                  NATUREZA_APURADA  \n",
              "0  LESÃO CORPORAL SEGUIDA DE MORTE  "
            ],
            "text/html": [
              "\n",
              "  <div id=\"df-47f4d56a-9450-4645-9d6b-7d8fedf85b0d\">\n",
              "    <div class=\"colab-df-container\">\n",
              "      <div>\n",
              "<style scoped>\n",
              "    .dataframe tbody tr th:only-of-type {\n",
              "        vertical-align: middle;\n",
              "    }\n",
              "\n",
              "    .dataframe tbody tr th {\n",
              "        vertical-align: top;\n",
              "    }\n",
              "\n",
              "    .dataframe thead th {\n",
              "        text-align: right;\n",
              "    }\n",
              "</style>\n",
              "<table border=\"1\" class=\"dataframe\">\n",
              "  <thead>\n",
              "    <tr style=\"text-align: right;\">\n",
              "      <th></th>\n",
              "      <th>DEPARTAMENTO_CIRCUNSCRICAO</th>\n",
              "      <th>SECCIONAL_CIRCUNSCRICAO</th>\n",
              "      <th>MUNICIPIO_CIRCUNSCRICAO</th>\n",
              "      <th>DP_CIRCUNSCRICAO</th>\n",
              "      <th>LCSM</th>\n",
              "      <th>Unnamed: 5</th>\n",
              "      <th>ID_DELEGACIA</th>\n",
              "      <th>MÊS ESTATISTICA</th>\n",
              "      <th>ANO ESTATISTICA</th>\n",
              "      <th>DATAHORA_REGISTRO_BO</th>\n",
              "      <th>NUM_BO</th>\n",
              "      <th>ANO_BO</th>\n",
              "      <th>MUNICIPIO_ELABORACAO</th>\n",
              "      <th>DP_ELABORACAO</th>\n",
              "      <th>SEC_ELABORACAO</th>\n",
              "      <th>DEP_ELABORACAO</th>\n",
              "      <th>DATA_FATO</th>\n",
              "      <th>HORA_FATO</th>\n",
              "      <th>DESC_TIPOLOCAL</th>\n",
              "      <th>LOGRADOURO</th>\n",
              "      <th>NUMERO_LOGRADOURO</th>\n",
              "      <th>LATITUDE</th>\n",
              "      <th>LONGITUDE</th>\n",
              "      <th>TIPO_PESSOA</th>\n",
              "      <th>SEXO_PESSOA</th>\n",
              "      <th>IDADE_PESSOA</th>\n",
              "      <th>DATA_NASCIMENTO_PESSOA</th>\n",
              "      <th>COR_PELE</th>\n",
              "      <th>PROFISSAO</th>\n",
              "      <th>NATUREZA_APURADA</th>\n",
              "    </tr>\n",
              "  </thead>\n",
              "  <tbody>\n",
              "    <tr>\n",
              "      <th>0</th>\n",
              "      <td>DECAP</td>\n",
              "      <td>5ª SEC</td>\n",
              "      <td>São Paulo</td>\n",
              "      <td>056 DP - Vila Alpina</td>\n",
              "      <td>1</td>\n",
              "      <td>NaN</td>\n",
              "      <td>10310</td>\n",
              "      <td>1</td>\n",
              "      <td>2017</td>\n",
              "      <td>2017-01-05 00:00:00</td>\n",
              "      <td>74</td>\n",
              "      <td>2017</td>\n",
              "      <td>S.PAULO</td>\n",
              "      <td>56º D.P. VILA ALPINA</td>\n",
              "      <td>DEL.SEC.5º LESTE</td>\n",
              "      <td>DECAP</td>\n",
              "      <td>2017-01-05 00:00:00</td>\n",
              "      <td>08:10:00</td>\n",
              "      <td>Saúde</td>\n",
              "      <td>AVENIDA FRANCISCO FALCONI</td>\n",
              "      <td>1501.0</td>\n",
              "      <td>NaN</td>\n",
              "      <td>NaN</td>\n",
              "      <td>Vítima</td>\n",
              "      <td>Feminino</td>\n",
              "      <td>32.0</td>\n",
              "      <td>1984-12-06 00:00:00</td>\n",
              "      <td>Parda</td>\n",
              "      <td>VENDEDOR(A)</td>\n",
              "      <td>LESÃO CORPORAL SEGUIDA DE MORTE</td>\n",
              "    </tr>\n",
              "  </tbody>\n",
              "</table>\n",
              "</div>\n",
              "      <button class=\"colab-df-convert\" onclick=\"convertToInteractive('df-47f4d56a-9450-4645-9d6b-7d8fedf85b0d')\"\n",
              "              title=\"Convert this dataframe to an interactive table.\"\n",
              "              style=\"display:none;\">\n",
              "        \n",
              "  <svg xmlns=\"http://www.w3.org/2000/svg\" height=\"24px\"viewBox=\"0 0 24 24\"\n",
              "       width=\"24px\">\n",
              "    <path d=\"M0 0h24v24H0V0z\" fill=\"none\"/>\n",
              "    <path d=\"M18.56 5.44l.94 2.06.94-2.06 2.06-.94-2.06-.94-.94-2.06-.94 2.06-2.06.94zm-11 1L8.5 8.5l.94-2.06 2.06-.94-2.06-.94L8.5 2.5l-.94 2.06-2.06.94zm10 10l.94 2.06.94-2.06 2.06-.94-2.06-.94-.94-2.06-.94 2.06-2.06.94z\"/><path d=\"M17.41 7.96l-1.37-1.37c-.4-.4-.92-.59-1.43-.59-.52 0-1.04.2-1.43.59L10.3 9.45l-7.72 7.72c-.78.78-.78 2.05 0 2.83L4 21.41c.39.39.9.59 1.41.59.51 0 1.02-.2 1.41-.59l7.78-7.78 2.81-2.81c.8-.78.8-2.07 0-2.86zM5.41 20L4 18.59l7.72-7.72 1.47 1.35L5.41 20z\"/>\n",
              "  </svg>\n",
              "      </button>\n",
              "      \n",
              "  <style>\n",
              "    .colab-df-container {\n",
              "      display:flex;\n",
              "      flex-wrap:wrap;\n",
              "      gap: 12px;\n",
              "    }\n",
              "\n",
              "    .colab-df-convert {\n",
              "      background-color: #E8F0FE;\n",
              "      border: none;\n",
              "      border-radius: 50%;\n",
              "      cursor: pointer;\n",
              "      display: none;\n",
              "      fill: #1967D2;\n",
              "      height: 32px;\n",
              "      padding: 0 0 0 0;\n",
              "      width: 32px;\n",
              "    }\n",
              "\n",
              "    .colab-df-convert:hover {\n",
              "      background-color: #E2EBFA;\n",
              "      box-shadow: 0px 1px 2px rgba(60, 64, 67, 0.3), 0px 1px 3px 1px rgba(60, 64, 67, 0.15);\n",
              "      fill: #174EA6;\n",
              "    }\n",
              "\n",
              "    [theme=dark] .colab-df-convert {\n",
              "      background-color: #3B4455;\n",
              "      fill: #D2E3FC;\n",
              "    }\n",
              "\n",
              "    [theme=dark] .colab-df-convert:hover {\n",
              "      background-color: #434B5C;\n",
              "      box-shadow: 0px 1px 3px 1px rgba(0, 0, 0, 0.15);\n",
              "      filter: drop-shadow(0px 1px 2px rgba(0, 0, 0, 0.3));\n",
              "      fill: #FFFFFF;\n",
              "    }\n",
              "  </style>\n",
              "\n",
              "      <script>\n",
              "        const buttonEl =\n",
              "          document.querySelector('#df-47f4d56a-9450-4645-9d6b-7d8fedf85b0d button.colab-df-convert');\n",
              "        buttonEl.style.display =\n",
              "          google.colab.kernel.accessAllowed ? 'block' : 'none';\n",
              "\n",
              "        async function convertToInteractive(key) {\n",
              "          const element = document.querySelector('#df-47f4d56a-9450-4645-9d6b-7d8fedf85b0d');\n",
              "          const dataTable =\n",
              "            await google.colab.kernel.invokeFunction('convertToInteractive',\n",
              "                                                     [key], {});\n",
              "          if (!dataTable) return;\n",
              "\n",
              "          const docLinkHtml = 'Like what you see? Visit the ' +\n",
              "            '<a target=\"_blank\" href=https://colab.research.google.com/notebooks/data_table.ipynb>data table notebook</a>'\n",
              "            + ' to learn more about interactive tables.';\n",
              "          element.innerHTML = '';\n",
              "          dataTable['output_type'] = 'display_data';\n",
              "          await google.colab.output.renderOutput(dataTable, element);\n",
              "          const docLink = document.createElement('div');\n",
              "          docLink.innerHTML = docLinkHtml;\n",
              "          element.appendChild(docLink);\n",
              "        }\n",
              "      </script>\n",
              "    </div>\n",
              "  </div>\n",
              "  "
            ]
          },
          "metadata": {},
          "execution_count": 19
        }
      ]
    },
    {
      "cell_type": "markdown",
      "source": [
        "### ☑️ **Dados de Morte decorrente de intervenção policial**"
      ],
      "metadata": {
        "id": "KJzmN-ZT_648"
      }
    },
    {
      "cell_type": "code",
      "source": [
        "# Trazendo cada aba da planilha para o dataset\n",
        "dfmo1 = pd.read_excel('gs://datasets-originais-agsw/ssp/MDIP_2013_2022.xlsx', sheet_name='2017')\n",
        "dfmo2 = pd.read_excel('gs://datasets-originais-agsw/ssp/MDIP_2013_2022.xlsx', sheet_name='2018')\n",
        "dfmo3 = pd.read_excel('gs://datasets-originais-agsw/ssp/MDIP_2013_2022.xlsx', sheet_name='2019')\n",
        "dfmo4 = pd.read_excel('gs://datasets-originais-agsw/ssp/MDIP_2013_2022.xlsx', sheet_name='2020')\n",
        "dfmo5 = pd.read_excel('gs://datasets-originais-agsw/ssp/MDIP_2013_2022.xlsx', sheet_name='2021')"
      ],
      "metadata": {
        "id": "3rc6oYJZ_649"
      },
      "execution_count": null,
      "outputs": []
    },
    {
      "cell_type": "code",
      "source": [
        "# Concatenando os Data Frames\n",
        "dfsp_policia = pd.concat([dfmo1,dfmo2,dfmo3,dfmo4, dfmo5])"
      ],
      "metadata": {
        "id": "iGrfuhzP_649"
      },
      "execution_count": null,
      "outputs": []
    },
    {
      "cell_type": "code",
      "source": [
        "# Visualizando estrutura\n",
        "dfsp_policia.head(1)"
      ],
      "metadata": {
        "colab": {
          "base_uri": "https://localhost:8080/",
          "height": 214
        },
        "id": "4fM_NMGSO9m_",
        "outputId": "8008d9a4-9ed3-4ed4-92a0-acae1c8af768"
      },
      "execution_count": null,
      "outputs": [
        {
          "output_type": "execute_result",
          "data": {
            "text/plain": [
              "  DEPARTAMENTO_CIRCUNSCRICAO  SECCIONAL_CIRCUNSCRICAO MUNICIPIO_CIRCUNSCRICAO  \\\n",
              "0                    DEMACRO  DEL.SEC.TABOÃO DA SERRA    ITAPECERICA DA SERRA   \n",
              "\n",
              "              DP_CIRCUNSCRICAO  COORPORAÇÃO SITUAÇÃO ID_DELEGACIA  \\\n",
              "0  DEL.POL.ITAPECERICA DA SERRA          PM    folga        30406   \n",
              "\n",
              "   MÊS ESTATISTICA  ANO ESTATISTICA DATAHORA_REGISTRO_BO NUM_BO ANO_BO  \\\n",
              "0                1             2017  2017-01-01 00:00:00      1   2017   \n",
              "\n",
              "   MUNICIPIO_ELABORACAO                 DP_ELABORACAO  \\\n",
              "0  ITAPECERICA DA SERRA  DEL.POL.ITAPECERICA DA SERRA   \n",
              "\n",
              "            SEC_ELABORACAO DEP_ELABORACAO            DATA_FATO HORA_FATO  \\\n",
              "0  DEL.SEC.TABOÃO DA SERRA        DEMACRO  2017-01-01 00:00:00  01:00:00   \n",
              "\n",
              "  DESC_TIPOLOCAL                  LOGRADOURO NUMERO_LOGRADOURO   LATITUDE  \\\n",
              "0    Via pública  RUA JULIO MANOEL DE ARAUJO               218 -23.703543   \n",
              "\n",
              "  LONGITUDE   TIPO_PESSOA SEXO_PESSOA IDADE_PESSOA DATA_NASCIMENTO_PESSOA  \\\n",
              "0 -46.80364  Autor/Vitima   Masculino         27.0    1989-01-07 00:00:00   \n",
              "\n",
              "  COR_PELE         PROFISSAO                          NATUREZA_APURADA  \n",
              "0    Parda  GUARDA MUNICIPAL  MORTE DECORRENTE DE INTERVENÇÃO POLICIAL  "
            ],
            "text/html": [
              "\n",
              "  <div id=\"df-df0cf44e-a322-40fc-a819-32befad4f808\">\n",
              "    <div class=\"colab-df-container\">\n",
              "      <div>\n",
              "<style scoped>\n",
              "    .dataframe tbody tr th:only-of-type {\n",
              "        vertical-align: middle;\n",
              "    }\n",
              "\n",
              "    .dataframe tbody tr th {\n",
              "        vertical-align: top;\n",
              "    }\n",
              "\n",
              "    .dataframe thead th {\n",
              "        text-align: right;\n",
              "    }\n",
              "</style>\n",
              "<table border=\"1\" class=\"dataframe\">\n",
              "  <thead>\n",
              "    <tr style=\"text-align: right;\">\n",
              "      <th></th>\n",
              "      <th>DEPARTAMENTO_CIRCUNSCRICAO</th>\n",
              "      <th>SECCIONAL_CIRCUNSCRICAO</th>\n",
              "      <th>MUNICIPIO_CIRCUNSCRICAO</th>\n",
              "      <th>DP_CIRCUNSCRICAO</th>\n",
              "      <th>COORPORAÇÃO</th>\n",
              "      <th>SITUAÇÃO</th>\n",
              "      <th>ID_DELEGACIA</th>\n",
              "      <th>MÊS ESTATISTICA</th>\n",
              "      <th>ANO ESTATISTICA</th>\n",
              "      <th>DATAHORA_REGISTRO_BO</th>\n",
              "      <th>NUM_BO</th>\n",
              "      <th>ANO_BO</th>\n",
              "      <th>MUNICIPIO_ELABORACAO</th>\n",
              "      <th>DP_ELABORACAO</th>\n",
              "      <th>SEC_ELABORACAO</th>\n",
              "      <th>DEP_ELABORACAO</th>\n",
              "      <th>DATA_FATO</th>\n",
              "      <th>HORA_FATO</th>\n",
              "      <th>DESC_TIPOLOCAL</th>\n",
              "      <th>LOGRADOURO</th>\n",
              "      <th>NUMERO_LOGRADOURO</th>\n",
              "      <th>LATITUDE</th>\n",
              "      <th>LONGITUDE</th>\n",
              "      <th>TIPO_PESSOA</th>\n",
              "      <th>SEXO_PESSOA</th>\n",
              "      <th>IDADE_PESSOA</th>\n",
              "      <th>DATA_NASCIMENTO_PESSOA</th>\n",
              "      <th>COR_PELE</th>\n",
              "      <th>PROFISSAO</th>\n",
              "      <th>NATUREZA_APURADA</th>\n",
              "    </tr>\n",
              "  </thead>\n",
              "  <tbody>\n",
              "    <tr>\n",
              "      <th>0</th>\n",
              "      <td>DEMACRO</td>\n",
              "      <td>DEL.SEC.TABOÃO DA SERRA</td>\n",
              "      <td>ITAPECERICA DA SERRA</td>\n",
              "      <td>DEL.POL.ITAPECERICA DA SERRA</td>\n",
              "      <td>PM</td>\n",
              "      <td>folga</td>\n",
              "      <td>30406</td>\n",
              "      <td>1</td>\n",
              "      <td>2017</td>\n",
              "      <td>2017-01-01 00:00:00</td>\n",
              "      <td>1</td>\n",
              "      <td>2017</td>\n",
              "      <td>ITAPECERICA DA SERRA</td>\n",
              "      <td>DEL.POL.ITAPECERICA DA SERRA</td>\n",
              "      <td>DEL.SEC.TABOÃO DA SERRA</td>\n",
              "      <td>DEMACRO</td>\n",
              "      <td>2017-01-01 00:00:00</td>\n",
              "      <td>01:00:00</td>\n",
              "      <td>Via pública</td>\n",
              "      <td>RUA JULIO MANOEL DE ARAUJO</td>\n",
              "      <td>218</td>\n",
              "      <td>-23.703543</td>\n",
              "      <td>-46.80364</td>\n",
              "      <td>Autor/Vitima</td>\n",
              "      <td>Masculino</td>\n",
              "      <td>27.0</td>\n",
              "      <td>1989-01-07 00:00:00</td>\n",
              "      <td>Parda</td>\n",
              "      <td>GUARDA MUNICIPAL</td>\n",
              "      <td>MORTE DECORRENTE DE INTERVENÇÃO POLICIAL</td>\n",
              "    </tr>\n",
              "  </tbody>\n",
              "</table>\n",
              "</div>\n",
              "      <button class=\"colab-df-convert\" onclick=\"convertToInteractive('df-df0cf44e-a322-40fc-a819-32befad4f808')\"\n",
              "              title=\"Convert this dataframe to an interactive table.\"\n",
              "              style=\"display:none;\">\n",
              "        \n",
              "  <svg xmlns=\"http://www.w3.org/2000/svg\" height=\"24px\"viewBox=\"0 0 24 24\"\n",
              "       width=\"24px\">\n",
              "    <path d=\"M0 0h24v24H0V0z\" fill=\"none\"/>\n",
              "    <path d=\"M18.56 5.44l.94 2.06.94-2.06 2.06-.94-2.06-.94-.94-2.06-.94 2.06-2.06.94zm-11 1L8.5 8.5l.94-2.06 2.06-.94-2.06-.94L8.5 2.5l-.94 2.06-2.06.94zm10 10l.94 2.06.94-2.06 2.06-.94-2.06-.94-.94-2.06-.94 2.06-2.06.94z\"/><path d=\"M17.41 7.96l-1.37-1.37c-.4-.4-.92-.59-1.43-.59-.52 0-1.04.2-1.43.59L10.3 9.45l-7.72 7.72c-.78.78-.78 2.05 0 2.83L4 21.41c.39.39.9.59 1.41.59.51 0 1.02-.2 1.41-.59l7.78-7.78 2.81-2.81c.8-.78.8-2.07 0-2.86zM5.41 20L4 18.59l7.72-7.72 1.47 1.35L5.41 20z\"/>\n",
              "  </svg>\n",
              "      </button>\n",
              "      \n",
              "  <style>\n",
              "    .colab-df-container {\n",
              "      display:flex;\n",
              "      flex-wrap:wrap;\n",
              "      gap: 12px;\n",
              "    }\n",
              "\n",
              "    .colab-df-convert {\n",
              "      background-color: #E8F0FE;\n",
              "      border: none;\n",
              "      border-radius: 50%;\n",
              "      cursor: pointer;\n",
              "      display: none;\n",
              "      fill: #1967D2;\n",
              "      height: 32px;\n",
              "      padding: 0 0 0 0;\n",
              "      width: 32px;\n",
              "    }\n",
              "\n",
              "    .colab-df-convert:hover {\n",
              "      background-color: #E2EBFA;\n",
              "      box-shadow: 0px 1px 2px rgba(60, 64, 67, 0.3), 0px 1px 3px 1px rgba(60, 64, 67, 0.15);\n",
              "      fill: #174EA6;\n",
              "    }\n",
              "\n",
              "    [theme=dark] .colab-df-convert {\n",
              "      background-color: #3B4455;\n",
              "      fill: #D2E3FC;\n",
              "    }\n",
              "\n",
              "    [theme=dark] .colab-df-convert:hover {\n",
              "      background-color: #434B5C;\n",
              "      box-shadow: 0px 1px 3px 1px rgba(0, 0, 0, 0.15);\n",
              "      filter: drop-shadow(0px 1px 2px rgba(0, 0, 0, 0.3));\n",
              "      fill: #FFFFFF;\n",
              "    }\n",
              "  </style>\n",
              "\n",
              "      <script>\n",
              "        const buttonEl =\n",
              "          document.querySelector('#df-df0cf44e-a322-40fc-a819-32befad4f808 button.colab-df-convert');\n",
              "        buttonEl.style.display =\n",
              "          google.colab.kernel.accessAllowed ? 'block' : 'none';\n",
              "\n",
              "        async function convertToInteractive(key) {\n",
              "          const element = document.querySelector('#df-df0cf44e-a322-40fc-a819-32befad4f808');\n",
              "          const dataTable =\n",
              "            await google.colab.kernel.invokeFunction('convertToInteractive',\n",
              "                                                     [key], {});\n",
              "          if (!dataTable) return;\n",
              "\n",
              "          const docLinkHtml = 'Like what you see? Visit the ' +\n",
              "            '<a target=\"_blank\" href=https://colab.research.google.com/notebooks/data_table.ipynb>data table notebook</a>'\n",
              "            + ' to learn more about interactive tables.';\n",
              "          element.innerHTML = '';\n",
              "          dataTable['output_type'] = 'display_data';\n",
              "          await google.colab.output.renderOutput(dataTable, element);\n",
              "          const docLink = document.createElement('div');\n",
              "          docLink.innerHTML = docLinkHtml;\n",
              "          element.appendChild(docLink);\n",
              "        }\n",
              "      </script>\n",
              "    </div>\n",
              "  </div>\n",
              "  "
            ]
          },
          "metadata": {},
          "execution_count": 22
        }
      ]
    },
    {
      "cell_type": "code",
      "source": [
        "dfsp_policia.columns"
      ],
      "metadata": {
        "colab": {
          "base_uri": "https://localhost:8080/"
        },
        "outputId": "ccb70b09-b54f-4f4e-a0d5-ba7661561605",
        "id": "vdD1zMN5e3yy"
      },
      "execution_count": null,
      "outputs": [
        {
          "output_type": "execute_result",
          "data": {
            "text/plain": [
              "Index(['DEPARTAMENTO_CIRCUNSCRICAO', 'SECCIONAL_CIRCUNSCRICAO',\n",
              "       'MUNICIPIO_CIRCUNSCRICAO', 'DP_CIRCUNSCRICAO ', 'COORPORAÇÃO',\n",
              "       'SITUAÇÃO', 'ID_DELEGACIA', 'MÊS ESTATISTICA', 'ANO ESTATISTICA',\n",
              "       'DATAHORA_REGISTRO_BO', 'NUM_BO', 'ANO_BO', 'MUNICIPIO_ELABORACAO',\n",
              "       'DP_ELABORACAO', 'SEC_ELABORACAO', 'DEP_ELABORACAO', 'DATA_FATO',\n",
              "       'HORA_FATO', 'DESC_TIPOLOCAL', 'LOGRADOURO', 'NUMERO_LOGRADOURO',\n",
              "       'LATITUDE', 'LONGITUDE', 'TIPO_PESSOA', 'SEXO_PESSOA', 'IDADE_PESSOA',\n",
              "       'DATA_NASCIMENTO_PESSOA', 'COR_PELE', 'PROFISSAO', 'NATUREZA_APURADA'],\n",
              "      dtype='object')"
            ]
          },
          "metadata": {},
          "execution_count": 53
        }
      ]
    },
    {
      "cell_type": "code",
      "source": [
        "# Realizando a troca de algumas colunas\n",
        "dfsp_policia.rename(columns={'DP_CIRCUNSCRICAO ':'DP_CIRCUNSCRICAO'}, inplace=True)"
      ],
      "metadata": {
        "id": "DQRSdil7e3yy"
      },
      "execution_count": null,
      "outputs": []
    },
    {
      "cell_type": "code",
      "source": [
        "# Verificando a quantidade de ocorrências por ano\n",
        "dfsp_policia.groupby(['NATUREZA_APURADA', 'ANO ESTATISTICA'],dropna=False).size().sort_values(ascending=False)"
      ],
      "metadata": {
        "id": "MOYGEvPmPJzQ",
        "colab": {
          "base_uri": "https://localhost:8080/"
        },
        "outputId": "1d7fc96d-1bcb-4619-cf7b-2f02aea8b7af"
      },
      "execution_count": null,
      "outputs": [
        {
          "output_type": "execute_result",
          "data": {
            "text/plain": [
              "NATUREZA_APURADA                          ANO ESTATISTICA\n",
              "MORTE DECORRENTE DE INTERVENÇÃO POLICIAL  2017               941\n",
              "                                          2019               867\n",
              "                                          2018               851\n",
              "                                          2020               814\n",
              "                                          2021               570\n",
              "dtype: int64"
            ]
          },
          "metadata": {},
          "execution_count": 23
        }
      ]
    },
    {
      "cell_type": "markdown",
      "source": [
        "##💿 **4 - Upload dos arquivos originais no Data Lake**"
      ],
      "metadata": {
        "id": "p4o8k7U8R7Z5"
      }
    },
    {
      "cell_type": "markdown",
      "source": [
        "###⬆️ **Envio ao Google Cloud Storage**"
      ],
      "metadata": {
        "id": "AkTKhOxeQQUh"
      }
    },
    {
      "cell_type": "code",
      "source": [
        "# Gerando arquivos em memória\n",
        "\n",
        "# Homicidio doloso\n",
        "dfsp_homicidio.to_excel('homicidios_Sp_orig.xlsx', index=False)\n",
        "\n",
        "# Lesão Corporal\n",
        "dfsp_lesao.to_excel('lesao_Sp_orig.xlsx', index=False)\n",
        "\n",
        "# Latrocinio\n",
        "dfsp_latrocinio.to_excel('latrocinio_Sp_orig.xlsx', index=False)\n",
        "\n",
        "# Com intervenção policial\n",
        "dfsp_policia.to_excel('policia_Sp_orig.xlsx', index=False)"
      ],
      "metadata": {
        "id": "UpJbvr9wgSPJ"
      },
      "execution_count": null,
      "outputs": []
    },
    {
      "cell_type": "code",
      "source": [
        "# Função para fazer upload de arquivo no bucket\n",
        "def upload_blob(bucket, arquivo, destino):\n",
        "    client = storage.Client()\n",
        "    bucket = client.bucket(bucket)\n",
        "    blob = bucket.blob(destino)\n",
        "\n",
        "    blob.upload_from_filename(arquivo)\n",
        "\n",
        "    print(\n",
        "        f\"Arquivo {arquivo} enviado para {destino}.\"\n",
        "    )\n",
        "\n",
        "# Salvando variáveis necessárias \n",
        "bucket = 'projeto-final-agsw'\n",
        "arquivo = ['/content/homicidios_Sp_orig.xlsx','/content/lesao_Sp_orig.xlsx','/content/policia_Sp_orig.xlsx', '/content/latrocinio_Sp_orig.xlsx']\n",
        "destino = ['originais/homicidios_Sp_orig.xlsx', 'originais/lesao_Sp_orig.xlsx', 'originais/policia_Sp_orig.xlsx', 'originais/latrocinio_Sp_orig.xlsx']\n",
        "y = 0\n",
        "\n",
        "# Realizando upload do arquivo\n",
        "for x in arquivo:\n",
        "  upload_blob(bucket, x, destino[y])\n",
        "  y +=1\n"
      ],
      "metadata": {
        "colab": {
          "base_uri": "https://localhost:8080/"
        },
        "id": "vlvmxhs9gz3i",
        "outputId": "5662abd1-faed-49e3-fcf3-3574252437cd"
      },
      "execution_count": null,
      "outputs": [
        {
          "output_type": "stream",
          "name": "stdout",
          "text": [
            "Arquivo /content/homicidios_Sp_orig.xlsx enviado para originais/homicidios_Sp_orig.xlsx.\n",
            "Arquivo /content/lesao_Sp_orig.xlsx enviado para originais/lesao_Sp_orig.xlsx.\n",
            "Arquivo /content/policia_Sp_orig.xlsx enviado para originais/policia_Sp_orig.xlsx.\n",
            "Arquivo /content/latrocinio_Sp_orig.xlsx enviado para originais/latrocinio_Sp_orig.xlsx.\n"
          ]
        }
      ]
    },
    {
      "cell_type": "markdown",
      "source": [
        "###⬆️ **Envio ao Cloud SQL (MySQL)**"
      ],
      "metadata": {
        "id": "bpkt83jK18AK"
      }
    },
    {
      "cell_type": "code",
      "source": [
        "# Indicando parametros de conexão\n",
        "INSTANCE_CONNECTION_NAME = f\"link do servidor\"\n",
        "print(f\"Você se conectou a instância: {INSTANCE_CONNECTION_NAME}\")\n",
        "DB_USER = \"usuário\"\n",
        "DB_PASS = \"senha\"\n",
        "DB_NAME = \"dados-originais\""
      ],
      "metadata": {
        "colab": {
          "base_uri": "https://localhost:8080/"
        },
        "id": "Yh5FmTQv-cXK",
        "outputId": "f131fdc2-9743-46b8-d050-9891f96bef41"
      },
      "execution_count": null,
      "outputs": [
        {
          "output_type": "stream",
          "name": "stdout",
          "text": [
            "Você se conectou a instância: projeto-final-373521:southamerica-east1:mindfull-crime\n"
          ]
        }
      ]
    },
    {
      "cell_type": "code",
      "source": [
        "# iniciando variável de conexão\n",
        "connector = Connector()\n",
        "\n",
        "# Gerando função de retorno da conexão\n",
        "def getconn():\n",
        "    conn = connector.connect(\n",
        "        INSTANCE_CONNECTION_NAME,\n",
        "        \"pymysql\",\n",
        "        user=DB_USER,\n",
        "        password=DB_PASS,\n",
        "        db=DB_NAME\n",
        "    )\n",
        "    return conn\n",
        "\n",
        "# Criando a conexão\n",
        "pool = sqlalchemy.create_engine(\n",
        "    \"mysql+pymysql://\",\n",
        "    creator=getconn,\n",
        ")"
      ],
      "metadata": {
        "id": "OiYiTVNg-gSX"
      },
      "execution_count": null,
      "outputs": []
    },
    {
      "cell_type": "code",
      "source": [
        "# Enviando para o MYSQL\n",
        "\n",
        "# DF lesão\n",
        "dfsp_homicidio.to_sql('dfsp_homicidio_orig', con=pool)\n",
        "\n",
        "# DF lesão\n",
        "dfsp_lesao.to_sql('dfsp_lesao_orig', con=pool)\n",
        "\n",
        "# DF latrocinio\n",
        "dfsp_latrocinio.to_sql('dfsp_latrocinio_orig', con=pool)\n",
        "\n",
        "# DF policia\n",
        "dfsp_policia.to_sql('dfsp_policia_orig', con=pool)"
      ],
      "metadata": {
        "id": "VyWIK8D8ErSf"
      },
      "execution_count": null,
      "outputs": []
    },
    {
      "cell_type": "code",
      "source": [
        "# Utilizando sparkSQL para verificar se as tabelas estão no banco \n",
        "pool.connect().execute(\"SHOW TABLES;\").fetchall()"
      ],
      "metadata": {
        "colab": {
          "base_uri": "https://localhost:8080/"
        },
        "id": "yBcJMczXbw-Y",
        "outputId": "d06a39c9-70a1-41c8-fc02-80caeba306ae"
      },
      "execution_count": null,
      "outputs": [
        {
          "output_type": "execute_result",
          "data": {
            "text/plain": [
              "[('dfsp_homicidio_orig',),\n",
              " ('dfsp_latrocinio_orig',),\n",
              " ('dfsp_lesao_orig',),\n",
              " ('dfsp_policia_orig',)]"
            ]
          },
          "metadata": {},
          "execution_count": 56
        }
      ]
    },
    {
      "cell_type": "code",
      "source": [
        "# Para limpar a conexão\n",
        "connector.close()"
      ],
      "metadata": {
        "id": "uu7eiTx-fotL"
      },
      "execution_count": null,
      "outputs": []
    }
  ]
}
